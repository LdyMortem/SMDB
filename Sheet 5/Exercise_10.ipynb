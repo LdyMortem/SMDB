{
 "cells": [
  {
   "cell_type": "markdown",
   "id": "8634d5f1",
   "metadata": {},
   "source": [
    "# Exercise 10\n",
    "### $\\textit{Confidence intervals}$"
   ]
  },
  {
   "cell_type": "markdown",
   "id": "41f1540e",
   "metadata": {},
   "source": [
    "Given is the likelihood function for a measured value $x$ at a given parameter $a$\n",
    "\n",
    "$L(X;a) = \\frac{1}{\\pi} \\frac{1}{1+(x-a)^2}$ mit $a > 0$."
   ]
  },
  {
   "cell_type": "markdown",
   "id": "1bc1f7e4",
   "metadata": {},
   "source": [
    ">**(a) Using the Neyman construction, determine the central frequentist $90 \\%$ confidence interval for $a$\n",
    "when a value $𝑥 = 10$ was measured.**"
   ]
  },
  {
   "cell_type": "code",
   "execution_count": 10,
   "id": "75c37990",
   "metadata": {},
   "outputs": [],
   "source": [
    "import numpy as np\n",
    "import matplotlib.pyplot as plt"
   ]
  },
  {
   "cell_type": "markdown",
   "id": "465d04ea",
   "metadata": {},
   "source": [
    "The integral of the probability function is analytically determined and equals to:\n",
    "\n",
    "$P(x;a) = \\frac{1}{\\pi} arctan(a-x)$\n",
    "\n",
    "The full area under the function for $x = 10$ is given by:\n"
   ]
  },
  {
   "cell_type": "code",
   "execution_count": 11,
   "id": "579c6b72",
   "metadata": {},
   "outputs": [
    {
     "name": "stdout",
     "output_type": "stream",
     "text": [
      "0.9682744825694465\n",
      "0.04841372412847233\n"
     ]
    }
   ],
   "source": [
    "p = (1/ np.pi) * ( np.arctan(np.Inf) - np.arctan(-10) )\n",
    "print(np.absolute(p))\n",
    "print(0.05*np.absolute(p))"
   ]
  },
  {
   "cell_type": "markdown",
   "id": "7892eec2",
   "metadata": {},
   "source": [
    "\n",
    "$ \\frac{1}{\\pi} \\left( \\arctan(\\infty) - \\arctan(-10) \\right)  =   \\frac{1}{\\pi} \\frac{\\pi}{2} + \\frac{1}{\\pi} 1.4711276743037  = 0.9682744825694465$\n",
    "\n",
    "Since we want the central 90% of the area under the curve, we need to determine for which interval the left and right edges of the area equal to 5% of the total area. This equals to $0.04841372412847233$.\n",
    "\n",
    "For the lower limit we get this equation:\n",
    "\n",
    "$\\frac{1}{\\pi} \\arctan(I_{unten} - 10) - \\frac{1}{\\pi} \\arctan(-10) = 0.04841372412847233$\n",
    "\n",
    "$\\Leftrightarrow \\arctan(I_{unten}-10) = 0.04841372412847233 \\cdot \\pi + \\arctan(-10)$\n",
    "\n",
    "$\\Leftrightarrow I_{unten} - 10= \\tan \\left( 0.04841372412847233 \\cdot \\pi + \\arctan(-10) \\right)$\n",
    "\n",
    "$\\Leftrightarrow I_{unten} = \\tan \\left( 0.04841372412847233 \\cdot \\pi + \\arctan(-10) \\right) + 10 = 6.112318096783665$"
   ]
  },
  {
   "cell_type": "code",
   "execution_count": 12,
   "id": "86755f85",
   "metadata": {},
   "outputs": [
    {
     "data": {
      "text/plain": [
       "6.112318096783665"
      ]
     },
     "execution_count": 12,
     "metadata": {},
     "output_type": "execute_result"
    }
   ],
   "source": [
    "l_unten = np.tan(0.04841372412847233 * np.pi + np.arctan(-10)) +10\n",
    "l_unten"
   ]
  },
  {
   "cell_type": "markdown",
   "id": "1d892956",
   "metadata": {},
   "source": [
    "For the upper limit we get this equation:\n",
    "$\\frac{1}{\\pi} \\arctan(\\infty) - \\frac{1}{\\pi} \\arctan(I_{oben}-10) = 0.04841372412847233$\n",
    "\n",
    "$\\Leftrightarrow -\\arctan(I_{oben}-10) = 0.04841372412847233 \\cdot \\pi - \\arctan(\\infty)$\n",
    "\n",
    "$\\Leftrightarrow \\arctan(I_{oben}-10) = \\arctan(\\infty) - 0.04841372412847233 \\cdot \\pi$\n",
    "\n",
    "$\\Leftrightarrow I_{oben} - 10= \\tan \\left( \\arctan(\\infty) - 0.04841372412847233 \\cdot \\pi \\right)$\n",
    "\n",
    "$\\Leftrightarrow I_{oben} = \\tan \\left( \\arctan(\\infty) - 0.04841372412847233 \\cdot \\pi \\right) + 10 = 16.52400912399286$"
   ]
  },
  {
   "cell_type": "code",
   "execution_count": 13,
   "id": "8bb90bfa",
   "metadata": {},
   "outputs": [
    {
     "data": {
      "text/plain": [
       "16.52400912399286"
      ]
     },
     "execution_count": 13,
     "metadata": {},
     "output_type": "execute_result"
    }
   ],
   "source": [
    "l_oben = np.tan(np.arctan(np.Inf) - 0.04841372412847233 * np.pi) +10\n",
    "l_oben"
   ]
  },
  {
   "cell_type": "markdown",
   "id": "479a4059",
   "metadata": {},
   "source": [
    "The interval for which the parameter $a$ lies in with $90\\%$ confidence for the measured $x$ value of $10$ is $a\\in [6.112318, 16.524009]$."
   ]
  },
  {
   "cell_type": "code",
   "execution_count": 16,
   "id": "1dd88d7a",
   "metadata": {},
   "outputs": [
    {
     "data": {
      "image/png": "[encoded data removed]",
      "text/plain": [
       "<Figure size 432x288 with 2 Axes>"
      ]
     },
     "metadata": {
      "needs_background": "light"
     },
     "output_type": "display_data"
    }
   ],
   "source": [
    "#heatmap configurations\n",
    "\n",
    "x, a = np.meshgrid(np.linspace(9, 11, 100), np.linspace(5, 17, 100))\n",
    "z = 1/(np.pi *(1+(x-a)**2)) #probability density\n",
    "\n",
    "z = z[:-1, :-1]\n",
    "\n",
    "fig, ax = plt.subplots()\n",
    "\n",
    "c = ax.pcolormesh(x, a, z, cmap='inferno', vmin=-0.1, vmax=0.35)\n",
    "ax.set_title('Probabilities P(a|x)')\n",
    "\n",
    "ax.axis([x.min(), x.max(), a.min(), a.max()])\n",
    "\n",
    "fig.colorbar(c, ax=ax)\n",
    "plt.xlabel(\"x measurements\", family='monospace', color='grey', weight='normal', size = 16, labelpad = 6)\n",
    "plt.ylabel(\"a values\", family='monospace', color='grey', weight='normal', size = 16, labelpad = 6)\n",
    "plt.axhline(y=l_unten, color='cornflowerblue', linestyle='dashed')\n",
    "plt.axhline(y=l_oben, color='cornflowerblue', linestyle='dashed')\n",
    "plt.axvline(x = 10, color='firebrick', linestyle='dashed')\n",
    "\n",
    "plt.show()"
   ]
  },
  {
   "cell_type": "markdown",
   "id": "d2991faa",
   "metadata": {},
   "source": [
    "The heatmap plot shows the probabilities of $a$ for certain measurements of $x$. The blue dashed lines are the confidence interval of $a$ for $x=10$. The red dashed line is for $x=10$."
   ]
  },
  {
   "cell_type": "code",
   "execution_count": 18,
   "id": "db9e27a2",
   "metadata": {},
   "outputs": [
    {
     "data": {
      "image/png": "[encoded data removed]",
      "text/plain": [
       "<Figure size 720x288 with 1 Axes>"
      ]
     },
     "metadata": {
      "needs_background": "light"
     },
     "output_type": "display_data"
    }
   ],
   "source": [
    "def f(n, x=10):\n",
    "    return 1/(np.pi *(1+(x-n)**2))\n",
    "\n",
    "#plot\n",
    "\n",
    "plt.figure(figsize=(10, 4))\n",
    "\n",
    "b = np.linspace(0, 25, 200)\n",
    "plt.plot(b,f(b)) \n",
    "plt.xlabel(\"a values\", color='grey', weight='normal', size = 16, labelpad = 6)\n",
    "plt.ylabel(\"probability of a\", color='grey', weight='normal', size = 16, labelpad = 6)\n",
    "\n",
    "k = np.arange(l_unten, l_oben, 0.1)\n",
    "\n",
    "plt.fill_between(k, f(k), color='tomato', alpha=.7)\n",
    "plt.grid( alpha=.2)\n",
    "\n",
    "plt.axvline(x=l_unten, color='firebrick', linestyle='dashed')\n",
    "plt.axvline(x=l_oben, color='firebrick', linestyle='dashed')\n",
    "\n",
    "plt.show()\n",
    "\n"
   ]
  },
  {
   "cell_type": "markdown",
   "id": "ff3b53e4",
   "metadata": {},
   "source": [
    ">**(b) Assuming a uniform prior distribution in $a$, determine the central Bayesian credibility interval.\n",
    "(Both sides outside the central confidence interval have the same probability content).**"
   ]
  }
 ],
 "metadata": {
  "kernelspec": {
   "display_name": "Python 3",
   "language": "python",
   "name": "python3"
  },
  "language_info": {
   "codemirror_mode": {
    "name": "ipython",
    "version": 3
   },
   "file_extension": ".py",
   "mimetype": "text/x-python",
   "name": "python",
   "nbconvert_exporter": "python",
   "pygments_lexer": "ipython3",
   "version": "3.8.8"
  }
 },
 "nbformat": 4,
 "nbformat_minor": 5
}
