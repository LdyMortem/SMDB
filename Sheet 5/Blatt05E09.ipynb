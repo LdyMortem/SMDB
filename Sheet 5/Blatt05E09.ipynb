{
 "cells": [
  {
   "cell_type": "markdown",
   "metadata": {},
   "source": [
    "# Exercise 9 - _Confidence Intervals short questions_\n",
    "\n",
    ">**A confidence interval [$x_1$, $x_2$] of a parameter $x$ at a confidence level $\\alpha$ is given. What is the\n",
    "frequentist, what is the Bayesian interpretation of this interval?**\n",
    "\n",
    "**Frequentist:**\n",
    "\n",
    "Primarily: The fraction $\\alpha$ does **not** mean that the true value $x_{true}$ lies in the interval [$x_1$, $x_2$] with probability $\\alpha$.\n",
    "Instead $\\alpha$ represents the fraction of intervals [$x_1$, $x_2$] which contain $x_{true}$.\n",
    "The following picture shows this subtle interpretation:\n",
    "\n",
    "![Confidence_intervall_normal_dist.png](Confidence_intervall_normal_dist.png)\n",
    "\n",
    "In this example 100 measurements were taken. For each measurement we can calculate the mean and the variance.\n",
    "\n",
    "But only 94 of 100 measurements contain the true value $x_{true} = 5$ in their intervals [$x_1$, $x_2$], which are consequently dependent on $x$. In this case $\\alpha = 0.95$.\n",
    "\n"
   ]
  },
  {
   "cell_type": "markdown",
   "metadata": {},
   "source": [
    "**Bayesian:**\n",
    "\n",
    "The statistical approach however defines a more intuitive interpretation of $\\alpha$. In the bayesian interpretation, $\\alpha$ represents the probability that for a given PDF, the true value $x_{true}$ lies within the interval [$x_-$, $x_+$].\n",
    "\n",
    "In this case, the confidence level $\\alpha$ is given by\n",
    "$$P\\left(x_{-} \\leq x \\leq x_{+}\\right)=\\int_{x_{-}}^{x_{+}} P(x) \\mathrm{d} x=\\alpha \\qquad.$$\n",
    "\n",
    "This also means that there is some freedom in constructing these intervals. Usually the interval is constructed symmetrically around the expectation value $\\mu$ or the interval width is minimized, although these constructions being equivalent for symmetric PDFs.\n",
    "\n",
    "![bayesian.png](bayesian.png)"
   ]
  },
  {
   "cell_type": "markdown",
   "metadata": {},
   "source": [
    ">**What role does the prior in Bayesian statistics play?**\n",
    "\n",
    "The prior probability distribution expresses one's \"believes\" about a uncertain quantity **before** evidence is taken into account.\n",
    "\n",
    "It therefore represents the _unconditional probability_. Respectively the posterior probability distribution is calculated by combining the _prior_ with the evidence, following Bayes' theorem."
   ]
  },
  {
   "cell_type": "markdown",
   "metadata": {},
   "source": [
    ">**What freedom is there in choosing these intervals?**\n",
    "\n",
    "As mentioned above, the choice of the confidence interval (bayesian) has a degree of freedom.\n",
    "\n",
    "For example (see fig. above) the interval can be centralized around the expectation value, or minimized regarding it's width. It can also be arranged in a way that only the most dense regions of the PDF are covered, sometimes resulting in an interval with gaps, or rather multiple intervals."
   ]
  },
  {
   "cell_type": "markdown",
   "metadata": {},
   "source": [
    ">**What happens in the special case of symmetrical PDF?**\n",
    "\n",
    "For symmetric PDFs the constructions mentioned above result in the same intervals. For example the interval symmetrically around the expecation value is equivalent to the shortest interval possible."
   ]
  },
  {
   "cell_type": "markdown",
   "metadata": {},
   "source": [
    ">**What is the difference between intervals and upper/lower limits?**\n",
    "\n",
    "For a given confidence level $\\alpha$, upper/lower limits are half-open intervals $[-\\infty, x_-]$ or $[x_+,\\infty]$.\n",
    "\n",
    "The interpretation remains the same and the only difference is the range/width of the intervals, meaning that limits have \"infinite width\".\n",
    "\n",
    "The choice and interpretation of an interval/limit depends on the subject/experiment.\n",
    "\n",
    "See the visualization above."
   ]
  }
 ],
 "metadata": {
  "kernelspec": {
   "display_name": "Python 3 (ipykernel)",
   "language": "python",
   "name": "python3"
  },
  "language_info": {
   "codemirror_mode": {
    "name": "ipython",
    "version": 3
   },
   "file_extension": ".py",
   "mimetype": "text/x-python",
   "name": "python",
   "nbconvert_exporter": "python",
   "pygments_lexer": "ipython3",
   "version": "3.10.6"
  },
  "vscode": {
   "interpreter": {
    "hash": "4d9e2127ff4c9882efad5b725d1d264926799ed089894ee7f2fd4e6b6fb2b09c"
   }
  }
 },
 "nbformat": 4,
 "nbformat_minor": 4
}
