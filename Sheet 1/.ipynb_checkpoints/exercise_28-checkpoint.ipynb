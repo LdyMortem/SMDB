{
 "cells": [
  {
   "cell_type": "markdown",
   "id": "deea124e",
   "metadata": {},
   "source": [
    "## Exercise 28 \n",
    "$\\textit{Particle traces}$"
   ]
  },
  {
   "cell_type": "code",
   "execution_count": 13,
   "id": "e180414e",
   "metadata": {},
   "outputs": [],
   "source": [
    "import numpy as np\n",
    "import matplotlib.pyplot as plt\n",
    "import sympy as sy\n"
   ]
  },
  {
   "cell_type": "markdown",
   "id": "0d9aeb94",
   "metadata": {},
   "source": [
    "a) Calculate the linear equation $x= az + b$, which describes the motion of the particle in the 𝑥–𝑧-plane, as well as the errors, the covariance matrix and the correlation coefficients of 𝑎 and 𝑏."
   ]
  },
  {
   "cell_type": "code",
   "execution_count": 17,
   "id": "e8919dfb",
   "metadata": {},
   "outputs": [],
   "source": [
    "x1sym, x2sym, z1sym, z2sym, sigma_x1, sigma_x2 = sy.symbols('x1, x2, z1, z2, sx1, sx2')\n",
    "\n",
    "a = (x2sym-x1sym)/(z2sym-z1sym)\n",
    "b = z1sym - z1sym*(x2sym-x1sym)/(z2sym-z1sym)"
   ]
  },
  {
   "cell_type": "markdown",
   "id": "0108b465",
   "metadata": {},
   "source": [
    "The gradient of the straight line is equivalent to $a=\\frac{(x_2 - x_1)}{(z_2 - z_1)} \\pm \\sigma_a$ and the x-axes part is $b=z_1 - z_1\\frac{(x_2 - x_1)}{(z_2 - z_1)} \\pm \\sigma_b$. \n",
    "\n",
    "Hence the formula for the trajectory is\n",
    "\n",
    "$x= \\frac{(x_2 - x_1)}{(z_2 - z_1)} z + z_1 - z_1\\frac{(x_2 - x_1)}{(z_2 - z_1)}$"
   ]
  },
  {
   "cell_type": "code",
   "execution_count": 23,
   "id": "cf7af379",
   "metadata": {},
   "outputs": [],
   "source": [
    "a_var = (1/(z2sym-z1sym))**2*(sigma_x1**2+sigma_x2**2)\n",
    "b_var = (z1sym/(z2sym-z1sym))**2*(sigma_x1**2+sigma_x2**2)"
   ]
  },
  {
   "cell_type": "markdown",
   "id": "3e4f8917",
   "metadata": {},
   "source": [
    "The error of the two variables are $\\sigma_a = \\frac{1}{z_2-z_1}\\sqrt{\\sigma_{x_1}^2+\\sigma_{x_2}^2}$ and $\\sigma_b = \\frac{z_1}{z_2-z_1}\\sqrt{\\sigma_{x_1}^2+\\sigma_{x_2}^2}$. They were calculated by gaussian uncertainty propagation, because $\\sigma_{x_2}$ and $\\sigma_{x_1}$ are uncorrelated. The variance is the square of the standard deviation.\n",
    "\n",
    "$a=\\frac{(x_2 - x_1)}{(z_2 - z_1)} \\pm \\frac{1}{z_2-z_1}\\sqrt{\\sigma_{x_1}^2+\\sigma_{x_2}^2}$ \n",
    "\n",
    "$b=z_1 - z_1\\frac{(x_2 - x_1)}{(z_2 - z_1)} \\pm \\frac{z_1}{z_2-z_1}\\sqrt{\\sigma_{x_1}^2+\\sigma_{x_2}^2}$\n",
    "\n",
    "Kovarianzmatrix: \n",
    "\\begin{pmatrix}\n",
    "\\frac{1}{z_2-z_1}^2 (\\sigma_{x_1}^2+\\sigma_{x_2}^2) & ? \\\\\n",
    "? & \\frac{z_1}{z_2-z_1}^2 (\\sigma_{x_1}^2+\\sigma_{x_2}^2) \n",
    "\\end{pmatrix}"
   ]
  }
 ],
 "metadata": {
  "kernelspec": {
   "display_name": "Python 3",
   "language": "python",
   "name": "python3"
  },
  "language_info": {
   "codemirror_mode": {
    "name": "ipython",
    "version": 3
   },
   "file_extension": ".py",
   "mimetype": "text/x-python",
   "name": "python",
   "nbconvert_exporter": "python",
   "pygments_lexer": "ipython3",
   "version": "3.8.8"
  }
 },
 "nbformat": 4,
 "nbformat_minor": 5
}
