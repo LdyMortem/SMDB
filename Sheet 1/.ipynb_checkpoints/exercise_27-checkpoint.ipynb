{
 "cells": [
  {
   "cell_type": "markdown",
   "id": "becf5b3b",
   "metadata": {},
   "source": [
    "## Exercise 27 \n",
    "$\\textit{Error propagation}$\n"
   ]
  },
  {
   "cell_type": "code",
   "execution_count": 158,
   "id": "21acb138",
   "metadata": {},
   "outputs": [],
   "source": [
    "import numpy as np\n",
    "import matplotlib.pyplot as plt\n",
    "import sympy as sy\n",
    "\n",
    "xsym, ysym = sy.symbols('x, y')\n",
    " \n",
    "a_0 = 1.0 #mean value for a0\n",
    "da_0 = 0.2 #std value for a0\n",
    "\n",
    "a_1 = 1.0 #mean value for a1\n",
    "da_1 = 0.2 #std value for a1\n",
    "\n",
    "rho = -0.8 #correlation\n",
    "cov= rho * da_0 * da_1 #formula for the covariance\n"
   ]
  },
  {
   "cell_type": "markdown",
   "id": "e73e803b",
   "metadata": {},
   "source": [
    "a) Determine the result analytically both considering the correlation and neglecting the correlation."
   ]
  },
  {
   "cell_type": "code",
   "execution_count": 163,
   "id": "5fa2ed7b",
   "metadata": {},
   "outputs": [
    {
     "data": {
      "text/latex": [
       "$\\displaystyle 0.769415362466854$"
      ],
      "text/plain": [
       "0.769415362466854"
      ]
     },
     "execution_count": 163,
     "metadata": {},
     "output_type": "execute_result"
    }
   ],
   "source": [
    "y_0 = a_0 + a_1 * xsym #function\n",
    "y_du = sy.sqrt((1*0.2)**2 +(xsym*0.2)**2) #uncertainty without correlation\n",
    "y_u = y_0 + y_du"
   ]
  },
  {
   "cell_type": "markdown",
   "id": "36569d44",
   "metadata": {},
   "source": [
    "The uncertainty of y without any correlation between the variables can be determined with Gaussian uncertainty propagation and yields:$(1+x)\\pm (0.2 \\sqrt{x^2+1})$"
   ]
  },
  {
   "cell_type": "code",
   "execution_count": 160,
   "id": "5cefba88",
   "metadata": {},
   "outputs": [],
   "source": [
    "y_wu = sy.sqrt((1*0.2)**2 +(xsym*0.2)**2 + 2*xsym*cov) #uncertainty with correlation"
   ]
  },
  {
   "cell_type": "markdown",
   "id": "00921c2a",
   "metadata": {},
   "source": [
    "The uncertainty of y with correlation between the variables can be determined with another formula similiar to the Gaussian uncertainty propagation and yields:$(1+x)\\pm (0.2 \\sqrt{x^2+1-1,6x})$"
   ]
  },
  {
   "cell_type": "markdown",
   "id": "e5c5550c",
   "metadata": {},
   "source": [
    "b) Determine the result numerically with a Monte Carlo simulation. Visualise the parameters 𝑎0\n",
    "and 𝑎1 in a scatter plot."
   ]
  },
  {
   "cell_type": "code",
   "execution_count": 185,
   "id": "89c00cb4",
   "metadata": {},
   "outputs": [
    {
     "data": {
      "image/png": "[encoded data removed]",
      "text/plain": [
       "<Figure size 432x288 with 2 Axes>"
      ]
     },
     "metadata": {
      "needs_background": "light"
     },
     "output_type": "display_data"
    }
   ],
   "source": [
    "a_0 = np.random.normal(1, 0.2, 10000) #generating values for a0 and a1\n",
    "a_1 = np.random.normal(1, 0.2, 10000)\n",
    "\n",
    "def y(x):\n",
    "    return a_0 + a_1*x\n",
    "\n",
    "fig = plt.figure()\n",
    "\n",
    "plt.subplot(1, 2, 1)\n",
    "\n",
    "plt.hist(y(2), bins=30, range=[1, 5], color='tomato')\n",
    "plt.xlabel(\"Values for y(2)\")\n",
    "plt.ylabel(\"Amount of times this value was yielded\")\n",
    "\n",
    "ax = fig.add_subplot(1, 2, 2)\n",
    "\n",
    "plt.scatter(a_0,a_1, alpha=0.4, color='cornflowerblue')\n",
    "plt.xlabel(\"Values for a_0\")\n",
    "plt.ylabel(\"Values for a_1\")\n",
    "ax.set_aspect('equal')\n",
    "\n",
    "fig.tight_layout(pad=3.0)"
   ]
  },
  {
   "cell_type": "markdown",
   "id": "8d0ae8a1",
   "metadata": {},
   "source": [
    "c) Determine the predictions 𝑦 (mean and standard deviation) for fixed 𝑥 = −3, 0, +3 numerically\n",
    "as well as analytically and compare them."
   ]
  },
  {
   "cell_type": "code",
   "execution_count": 169,
   "id": "ec9fd2e4",
   "metadata": {},
   "outputs": [
    {
     "name": "stdout",
     "output_type": "stream",
     "text": [
      "-2.005099799768287 0.6335581170378571\n",
      "0.9960213151933976 0.1946453013197764\n",
      "3.997142430155083 0.6316313329004327\n"
     ]
    }
   ],
   "source": [
    "print(np.mean(y(-3)), np.std(y(-3)))\n",
    "print(np.mean(y(0)), np.std(y(0)))\n",
    "print(np.mean(y(3)), np.std(y(3)))"
   ]
  },
  {
   "cell_type": "markdown",
   "id": "dcadc611",
   "metadata": {},
   "source": [
    "The numerically determined values for $x=-3,0,+3$ are $y_{-3} = -2.0012182288424056 \\pm 0.6135647725161408$, $y_{0} = 1.0085695846134246 \\pm 0.18757527489848735$ and $y_{+3} = 4.018357398069256 \\pm 0.610666549737587$. \n",
    "\n",
    "The analitically determined values for $x=-3,0,+3$ are $y_{-3} = -2 \\pm 0.769415362466854 $, $y_{0} = 1 \\pm 0,2$ and $y_{+3} = 4 \\pm 0.456070170039655 $"
   ]
  },
  {
   "cell_type": "markdown",
   "id": "9668e9ae",
   "metadata": {},
   "source": [
    "The numerically determined values are all slightely bigger than the analitically calculated ones. But overall, they match up quiet good :)"
   ]
  },
  {
   "cell_type": "code",
   "execution_count": null,
   "id": "2c9843cf",
   "metadata": {},
   "outputs": [],
   "source": []
  }
 ],
 "metadata": {
  "kernelspec": {
   "display_name": "Python 3",
   "language": "python",
   "name": "python3"
  },
  "language_info": {
   "codemirror_mode": {
    "name": "ipython",
    "version": 3
   },
   "file_extension": ".py",
   "mimetype": "text/x-python",
   "name": "python",
   "nbconvert_exporter": "python",
   "pygments_lexer": "ipython3",
   "version": "3.8.8"
  }
 },
 "nbformat": 4,
 "nbformat_minor": 5
}
