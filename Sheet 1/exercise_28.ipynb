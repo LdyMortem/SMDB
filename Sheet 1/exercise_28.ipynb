{
 "cells": [
  {
   "cell_type": "markdown",
   "id": "deea124e",
   "metadata": {},
   "source": [
    "## Exercise 28 \n",
    "$\\textit{Particle traces}$"
   ]
  },
  {
   "cell_type": "code",
   "execution_count": 13,
   "id": "e180414e",
   "metadata": {},
   "outputs": [],
   "source": [
    "import numpy as np\n",
    "import matplotlib.pyplot as plt\n",
    "import sympy as sy\n"
   ]
  },
  {
   "cell_type": "markdown",
   "id": "17399383",
   "metadata": {},
   "source": [
    "a) Calculate the linear equation $x= az + b$, which describes the motion of the particle in the 𝑥–𝑧-plane, as well as the errors, the covariance matrix and the correlation coefficients of 𝑎 and 𝑏."
   ]
  },
  {
   "cell_type": "code",
   "execution_count": 17,
   "id": "fa47b7b6",
   "metadata": {},
   "outputs": [],
   "source": [
    "x1sym, x2sym, z1sym, z2sym, sigma_x1, sigma_x2 = sy.symbols('x1, x2, z1, z2, sx1, sx2')\n",
    "\n",
    "a = (x2sym-x1sym)/(z2sym-z1sym)\n",
    "b = z1sym - z1sym*(x2sym-x1sym)/(z2sym-z1sym)"
   ]
  },
  {
   "cell_type": "markdown",
   "id": "ef3d6915",
   "metadata": {},
   "source": [
    "The gradient of the straight line is equivalent to $a=\\frac{(x_2 - x_1)}{(z_2 - z_1)} \\pm \\sigma_a$ and the x-axes part is $b=z_1 - z_1\\frac{(x_2 - x_1)}{(z_2 - z_1)} \\pm \\sigma_b$. \n",
    "\n",
    "Hence the formula for the trajectory is\n",
    "\n",
    "$x= \\frac{(x_2 - x_1)}{(z_2 - z_1)} z + z_1 - z_1\\frac{(x_2 - x_1)}{(z_2 - z_1)}$"
   ]
  },
  {
   "cell_type": "code",
   "execution_count": 23,
   "id": "f4048ba8",
   "metadata": {},
   "outputs": [],
   "source": [
    "a_var = (1/(z2sym-z1sym))**2*(sigma_x1**2+sigma_x2**2)\n",
    "b_var = (z1sym/(z2sym-z1sym))**2*(sigma_x1**2+sigma_x2**2)"
   ]
  },
  {
   "cell_type": "markdown",
   "id": "9b0ef1bc",
   "metadata": {},
   "source": [
    "The error of the two variables are $\\sigma_a = \\frac{1}{z_2-z_1}\\sqrt{\\sigma_{x_1}^2+\\sigma_{x_2}^2}$ and $\\sigma_b = \\frac{z_1}{z_2-z_1}\\sqrt{\\sigma_{x_1}^2+\\sigma_{x_2}^2}$. They were calculated by gaussian uncertainty propagation, because $\\sigma_{x_2}$ and $\\sigma_{x_1}$ are uncorrelated. The variance is the square of the standard deviation.\n",
    "\n",
    "$a=\\frac{(x_2 - x_1)}{(z_2 - z_1)} \\pm \\frac{1}{z_2-z_1}\\sqrt{\\sigma_{x_1}^2+\\sigma_{x_2}^2}$ \n",
    "\n",
    "$b=z_1 - z_1\\frac{(x_2 - x_1)}{(z_2 - z_1)} \\pm \\frac{z_1}{z_2-z_1}\\sqrt{\\sigma_{x_1}^2+\\sigma_{x_2}^2}$\n",
    "\n",
    "Covariance matrix: \n",
    "\\begin{pmatrix}\n",
    "\\frac{1}{z_2-z_1}^2 (\\sigma_{x_1}^2+\\sigma_{x_2}^2) & \\mathrm{Cov(a,b)} \\\\\n",
    "\\mathrm{Cov(a,b)} & \\frac{z_1}{z_2-z_1}^2 (\\sigma_{x_1}^2+\\sigma_{x_2}^2) \n",
    "\\end{pmatrix}"
   ]
  },
  {
   "cell_type": "markdown",
   "id": "95b5a1bb",
   "metadata": {},
   "source": [
    "b) The measurements in the two drift chamber planes at $𝑧_1$ and $𝑧_2$ are now used to predict the position of the particle in the next detector element. Let this be another drift chamber plane parallel to the first two at $𝑧 = 𝑧_3$. With the help of the equation determined in (a), calculate the position $𝑥_3$ and its error at $𝑧 = 𝑧_3$.\n"
   ]
  },
  {
   "cell_type": "markdown",
   "id": "73ed0a3d",
   "metadata": {},
   "source": [
    "The position of $x_3$ is $x_3 = \\frac{(x_2 - x_1)}{(z_2 - z_1)} z_3 + z_1 - z_1\\frac{(x_2 - x_1)}{(z_2 - z_1)} \\pm \\sigma_{x_3}$. With $\\sigma_{x_3} = \\sqrt{z_3^2 \\sigma_a^2 + \\sigma_b^2 +2 z_3 \\mathrm{Cov(a,b)}}$."
   ]
  },
  {
   "cell_type": "markdown",
   "id": "217ba45e",
   "metadata": {},
   "source": [
    "c) How does the error of $𝑥_3$ change if you mistakenly do not take into account the correlation between 𝑎 and 𝑏?"
   ]
  },
  {
   "cell_type": "markdown",
   "id": "b597a18a",
   "metadata": {},
   "source": [
    "Sadly, we're too stupid to calculate the covariance of the two variables. But as you can already see in the formula for the error of $x_3$, it would either increase or decrease, depending on the covariance being positive or negative."
   ]
  }
 ],
 "metadata": {
  "kernelspec": {
   "display_name": "Python 3",
   "language": "python",
   "name": "python3"
  },
  "language_info": {
   "codemirror_mode": {
    "name": "ipython",
    "version": 3
   },
   "file_extension": ".py",
   "mimetype": "text/x-python",
   "name": "python",
   "nbconvert_exporter": "python",
   "pygments_lexer": "ipython3",
   "version": "3.8.8"
  }
 },
 "nbformat": 4,
 "nbformat_minor": 5
}
