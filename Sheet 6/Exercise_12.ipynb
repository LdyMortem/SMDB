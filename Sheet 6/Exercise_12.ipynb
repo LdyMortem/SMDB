{
 "cells": [
  {
   "cell_type": "markdown",
   "id": "7cb939b2",
   "metadata": {},
   "source": [
    "# Exercise 12\n",
    "### $\\textit{Two Histograms}$"
   ]
  },
  {
   "cell_type": "markdown",
   "id": "ba26c665",
   "metadata": {},
   "source": [
    "Given are two histograms with the same binning ($r$ bins). The null hypothesis is that the two histograms\n",
    "represent random numbers from different distributions. However, it is suspected that both\n",
    "populations stem from the same distribution. This means there are $r$ probabilities $p_1, … , p_r$ for an\n",
    "observation to lie in the $𝑖$-th bin ($\\sum_{i=1}^r p_i = 1$. The entries in the $𝑖$-th bin of the first histogram are\n",
    "denoted $n_i$ and in the second $m_i$. The number of observations in the first histogram is $N =\\sum_{i=1}^r n_i$ and in the second $M =\\sum_{i=1}^r m_i$."
   ]
  },
  {
   "cell_type": "markdown",
   "id": "f3eb6af9",
   "metadata": {},
   "source": [
    ">**(a) What distribution do the count rates in the individual bins follow? State the PDF for a single\n",
    "bin for both histograms ($n_i$ and $m_i$) under the null hypothesis.**"
   ]
  },
  {
   "cell_type": "markdown",
   "id": "c9b2f786",
   "metadata": {},
   "source": [
    "The count rates in the individual bins follow a poisson-distribution:\n",
    "\n",
    "first histogram: $\\frac{\\exp(-Np_i) (Np_i)^{n_i}}{n_i!}$\n",
    "\n",
    "second histogram: $\\frac{\\exp(-Mp_i) (Mp_i)^{m_i}}{m_i!}$"
   ]
  },
  {
   "cell_type": "markdown",
   "id": "aac99671",
   "metadata": {},
   "source": [
    ">**(b) State the likelihood function for the null hypothesis. Find the estimator $\\hat{p_i}$ that maximises the\n",
    "likelihood.**"
   ]
  },
  {
   "cell_type": "markdown",
   "id": "82acebaf",
   "metadata": {},
   "source": [
    "$L = \\frac{\\exp(-Np_i) (Np_i)^{n_i}}{n_i!} \\cdot \\frac{\\exp(-Mp_i )(Mp_i)^{m_i}}{m_i!} = \\frac{\\exp(-p_i(N +M)) (Np_i)^{n_i}(Mp_i)^{m_i}}{n_i! \\cdot m_i!} $\n",
    "\n",
    "To find $\\hat{p_i}$ that maximises the likelihood, we have to find the minimum of the log-likelihood:\n",
    "\n",
    "$l= \\ln(L) = -p_i(N +M) + (n_i + m_i) \\ln(p_i) + (n_i + m_i) \\ln(N \\cdot M) - \\ln(n_i! \\cdot m_i!)$\n",
    "\n",
    "$\\frac{\\partial l}{\\partial p_i} = -N -M + \\frac{(n_i + m_i)}{\\hat{p_i}} \\stackrel{!}{=} 0$\n",
    "\n",
    "$\\Leftrightarrow \\hat{p_i} = \\frac{(n_i + m_i)}{N + M}$"
   ]
  },
  {
   "cell_type": "markdown",
   "id": "9d219f45",
   "metadata": {},
   "source": [
    ">**(c) State the $\\chi^2$ test statistic assuming the null hypothesis. (No simplification of the term is necessary)**"
   ]
  },
  {
   "cell_type": "markdown",
   "id": "a9270e01",
   "metadata": {},
   "source": [
    "$\\chi^2 = \\sum_{i=1}^r \\left[ \\frac{(n_i - N \\frac{n_i + m_i}{N+M})^2}{N \\cdot\\frac{n_i + m_i}{N+M}} + \\frac{(m_i - M \\frac{n_i + m_i}{N+M})^2}{M \\cdot\\frac{n_i + m_i}{N+M}} \\right]$"
   ]
  },
  {
   "cell_type": "markdown",
   "id": "89f63b61",
   "metadata": {},
   "source": [
    ">**(d) How many degrees of freedom does the $\\chi^2$ distribution have? Does the test statistic for small\n",
    "bin contents ($n_i$, $m_i < 10$) still follow a $\\chi^2$ distribution? If not, why not?**"
   ]
  },
  {
   "cell_type": "markdown",
   "id": "fa3d23e6",
   "metadata": {},
   "source": [
    "Through the histograms we have $2r$ degrees of freedom through the sum, $(r-1)$ $p_i$ values given trough the estimator and $M$ and $N$ are given trough $M =\\sum_{i=1}^r m_i$ and $N =\\sum_{i=1}^r n_i$. So in total we have $r-1$ degrees of freedom.\n",
    "\n",
    "When the bin contents are too small, the uncertainties grow too big and the test statistic does not follow a $\\chi^2$ distribution anymore."
   ]
  },
  {
   "cell_type": "markdown",
   "id": "fd8edad4",
   "metadata": {},
   "source": [
    ">**Given are the histograms: ...**\n",
    "\n",
    ">**(e) It can be shown that the test statistic can be simplified to $\\chi^2 = \\frac{1}{NM} \\sum_{i=1}^r \\frac{(Nm_i-Mn_i)^2}{n_i + m_i}$. Check wether the null hypothesis for the given histograms $\\alpha = 0.1, 0.05, 0.01$ is to be rejected. What\n",
    "does the Type II error describe in this case?**"
   ]
  },
  {
   "cell_type": "markdown",
   "id": "7f85ab34",
   "metadata": {},
   "source": [
    "$N = =\\sum_{i=1}^r n_i = 632$ and $ M =\\sum_{i=1}^r m_i = 81$\n",
    "\n",
    "$\\hat{p_i} = \\frac{(n_i + m_i)}{N + M}$\n",
    "\n",
    "$\\hat{p_1} = 0,177$, $\\hat{p_2} = 0,314$, $\\hat{p_3} = 0,509$\n",
    "\n",
    "$\\chi^2 = \\frac{1}{NM} \\sum_{i=1}^r \\frac{(Nm_i-Mn_i)^2}{n_i + m_i} \\approx 8,43$\n",
    "\n",
    "The $\\chi^2$ values for the different hisograms can be looked up in a table:\n",
    "\n",
    "$\\chi^2_{0,1} = 4,61$, $\\chi^2_{0,05} = 5,99$, $\\chi^2_{0,01} = 9,21$.\n",
    "\n",
    "Therefore the null hyptothesis is accepted for $\\alpha = 0,1$ and $  = 0,05$ but is rejected for $\\alpha = 0,01$.\n",
    "\n",
    "A Type II error describes the error that occurs when one fails to reject a null hypothesis that is actually false."
   ]
  },
  {
   "cell_type": "code",
   "execution_count": null,
   "id": "19ef1a85",
   "metadata": {},
   "outputs": [],
   "source": []
  }
 ],
 "metadata": {
  "kernelspec": {
   "display_name": "Python 3",
   "language": "python",
   "name": "python3"
  },
  "language_info": {
   "codemirror_mode": {
    "name": "ipython",
    "version": 3
   },
   "file_extension": ".py",
   "mimetype": "text/x-python",
   "name": "python",
   "nbconvert_exporter": "python",
   "pygments_lexer": "ipython3",
   "version": "3.8.8"
  }
 },
 "nbformat": 4,
 "nbformat_minor": 5
}
