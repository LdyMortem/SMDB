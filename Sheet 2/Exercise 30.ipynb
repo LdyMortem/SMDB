{
 "cells": [
  {
   "cell_type": "markdown",
   "id": "3bc580ad",
   "metadata": {},
   "source": [
    "## Exercise 30"
   ]
  },
  {
   "cell_type": "markdown",
   "id": "81b8c03d",
   "metadata": {},
   "source": [
    "#### Lab Experiment"
   ]
  },
  {
   "cell_type": "markdown",
   "id": "4a5760b4",
   "metadata": {},
   "source": [
    "###### a)"
   ]
  },
  {
   "cell_type": "markdown",
   "id": "170e1c04",
   "metadata": {},
   "source": [
    "Ansatz: \n",
    "$\n",
    "    f(\\Psi) = a_1 \\cos\\Psi + a_2 \\sin\\Psi\n",
    "$"
   ]
  },
  {
   "cell_type": "markdown",
   "id": "65d3750e",
   "metadata": {},
   "source": [
    "design matrix: \n",
    "$\\underline{\\underline{\\mathrm{A}}} = \n",
    "\\begin{pmatrix}\n",
    "    1.00000000e+00 & 0.00000000e+00\\\\\n",
    "   8.66025404e-01 & 5.00000000e-01\\\\\n",
    "  5.00000000e-01&  8.66025404e-01\\\\\n",
    "    6.12323400e-17 & 1.00000000e+00\\\\\n",
    "   -5.00000000e-01 & 8.66025404e-01\\\\\n",
    "   -8.66025404e-01 & 5.00000000e-01\\\\\n",
    "   -1.00000000e+00 & 1.22464680e-16\\\\\n",
    "   -8.66025404e-01 &-5.00000000e-01\\\\\n",
    "   -5.00000000e-01 &-8.66025404e-01\\\\\n",
    "   -1.83697020e-16 &-1.00000000e+00\\\\\n",
    "    5.00000000e-01 &-8.66025404e-01\\\\\n",
    "    8.66025404e-01 &-5.00000000e-01\n",
    "\\end{pmatrix}\n",
    "$"
   ]
  },
  {
   "cell_type": "code",
   "execution_count": 6,
   "id": "8563e233",
   "metadata": {},
   "outputs": [
    {
     "name": "stdout",
     "output_type": "stream",
     "text": [
      "design matrix A = \n",
      "[[ 1.00000000e+00  0.00000000e+00]\n",
      " [ 8.66025404e-01  5.00000000e-01]\n",
      " [ 5.00000000e-01  8.66025404e-01]\n",
      " [ 6.12323400e-17  1.00000000e+00]\n",
      " [-5.00000000e-01  8.66025404e-01]\n",
      " [-8.66025404e-01  5.00000000e-01]\n",
      " [-1.00000000e+00  1.22464680e-16]\n",
      " [-8.66025404e-01 -5.00000000e-01]\n",
      " [-5.00000000e-01 -8.66025404e-01]\n",
      " [-1.83697020e-16 -1.00000000e+00]\n",
      " [ 5.00000000e-01 -8.66025404e-01]\n",
      " [ 8.66025404e-01 -5.00000000e-01]]\n",
      "a = [-0.0375063   0.07739978]\n"
     ]
    }
   ],
   "source": [
    "import numpy as np\n",
    "from numpy.linalg import pinv\n",
    "import uncertainties as unc\n",
    "from uncertainties import unumpy as unp\n",
    "\n",
    "psi = [0,30,60,90,120,150,180,210,240,270,300,330]\n",
    "psi = np.multiply(psi,2*np.pi/360)\n",
    "asymetry = [-0.032, 0.010,0.057,0.068, 0.076, 0.080, 0.031,0.005,-0.041,-0.090,-0.088,-0.074]\n",
    "# calculating design matrix\n",
    "A = np.array([np.cos(psi),np.sin(psi)]).transpose()\n",
    "AT = A.transpose()\n",
    "print(\"design matrix A = \")\n",
    "print(A)\n",
    "\n",
    "#calculating the a-vector\n",
    "a = (pinv(AT @ A) @ AT) @ asymetry\n",
    "print(\"a =\",a)"
   ]
  },
  {
   "cell_type": "markdown",
   "id": "34567f58",
   "metadata": {},
   "source": [
    "The resulting solution vector a is $\\vec{a} = (-0.0375063,0.07739978)^T$"
   ]
  },
  {
   "cell_type": "markdown",
   "id": "be950ff1",
   "metadata": {},
   "source": [
    "### b)\n",
    "Calculate the covariance matrix $V[a]$ as well as the errors of $𝑎_1$ and $𝑎_2$ and the correlation coefficient"
   ]
  },
  {
   "cell_type": "code",
   "execution_count": 7,
   "id": "70c8443f",
   "metadata": {},
   "outputs": [
    {
     "name": "stdout",
     "output_type": "stream",
     "text": [
      "covariance matri of a: \n",
      " [[ 2.01666667e-05  3.84715287e-21]\n",
      " [-1.58839835e-21  2.01666667e-05]]\n",
      "Error of a_1=  0.004490731195102493\n",
      "Error of a_2=  0.004490731195102493\n",
      "correlation coefficient: rho =  1.907679110142422e-16\n"
     ]
    }
   ],
   "source": [
    "#covariance matrix of asymetry\n",
    "Var_y = V = np.diag([0.011**2]*12)\n",
    "\n",
    "#covariance matrix of the parameters\n",
    "Cov_a = pinv(AT@A)@AT@Var_y@A@pinv(AT@A)\n",
    "print(\"covariance matrix of a: \\n\",Cov_a)\n",
    "\n",
    "#calculating the errors of the parameters\n",
    "error1 = np.sqrt(Cov_a[0][0])\n",
    "error2 = np.sqrt(Cov_a[1][1])\n",
    "print(\"Error of a_1= \",error1)\n",
    "print(\"Error of a_2= \",error2)\n",
    "\n",
    "#calculating correlation coefficient of a'_1 and a_2:\n",
    "rho = Cov_a[0][1]/(error1*error2)\n",
    "print(\"correlation coefficient: rho = \", rho)"
   ]
  },
  {
   "cell_type": "markdown",
   "id": "f0027936",
   "metadata": {},
   "source": [
    "The covariance matrix of $\\vec{a} = \\begin{pmatrix}\n",
    "2.01666667e-05 & 3.84715287e-21\\\\\n",
    "-1.58839835e-21 & 2.01666667e-05\n",
    "\\end{pmatrix}$. \\\\\n",
    "The parameters with errors are $a_1 = -0.0375063 \\pm 0.00449$ and $a_2 = 0.07739978 \\pm 0.00449$ with a correlation coefficient of $\\rho = 1.907679110142422e-16$.\n"
   ]
  },
  {
   "cell_type": "markdown",
   "id": "cfbf928a",
   "metadata": {},
   "source": [
    "### c)\n",
    "Calculate $A_0$ and $\\delta$, their error, and the correlation of $a_1$ and $a_2$."
   ]
  },
  {
   "cell_type": "code",
   "execution_count": 25,
   "id": "7118ece6",
   "metadata": {},
   "outputs": [
    {
     "name": "stdout",
     "output_type": "stream",
     "text": [
      "The resulting ansatz is given by: \n",
      " f(psi) =  -0.086+/-0.004 * cos(psi 1.12+/-0.05 )\n"
     ]
    }
   ],
   "source": [
    "import uncertainties as unc\n",
    "from uncertainties import unumpy as unp\n",
    "#A_0 and delta\n",
    "a_1_err = unc.ufloat(a[0],error1)\n",
    "a_2_err = unc.ufloat(a[1],error2)\n",
    "\n",
    "A_0 = -unp.sqrt(a_1_err**2+a_2_err**2)\n",
    "delta = unp.arctan(-(a_2_err)/(a_1_err))\n",
    "\n",
    "print(\"The resulting ansatz is given by: \\n\",\"f(psi) = \", A_0,\"* cos(psi\",delta,\")\")"
   ]
  }
 ],
 "metadata": {
  "kernelspec": {
   "display_name": "Python 3",
   "language": "python",
   "name": "python3"
  },
  "language_info": {
   "codemirror_mode": {
    "name": "ipython",
    "version": 3
   },
   "file_extension": ".py",
   "mimetype": "text/x-python",
   "name": "python",
   "nbconvert_exporter": "python",
   "pygments_lexer": "ipython3",
   "version": "3.8.8"
  }
 },
 "nbformat": 4,
 "nbformat_minor": 5
}
