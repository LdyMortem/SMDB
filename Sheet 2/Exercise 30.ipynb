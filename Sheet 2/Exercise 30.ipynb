{
 "cells": [
  {
   "cell_type": "markdown",
   "id": "3bc580ad",
   "metadata": {},
   "source": [
    "## Exercise 30"
   ]
  },
  {
   "cell_type": "markdown",
   "id": "81b8c03d",
   "metadata": {},
   "source": [
    "#### Lab Experiment"
   ]
  },
  {
   "cell_type": "markdown",
   "id": "4a5760b4",
   "metadata": {},
   "source": [
    "###### a)"
   ]
  },
  {
   "cell_type": "markdown",
   "id": "170e1c04",
   "metadata": {},
   "source": [
    "Ansatz: \n",
    "$\n",
    "    f(\\Psi) = a_1 \\cos\\Psi + a_2 \\sin\\Psi\n",
    "$"
   ]
  },
  {
   "cell_type": "markdown",
   "id": "65d3750e",
   "metadata": {},
   "source": [
    "design matrix: \n",
    "$\\underline{\\underline{\\mathrm{A}}} = \n",
    "\\begin{pmatrix}\n",
    "    \\cos 0   & \\sin 0 \\\\\n",
    "    \\cos 30 & \\sin 30\\\\\n",
    "    \\cos 60  & \\sin 60\\\\\n",
    "    \\cos 90  & \\sin 90\\\\\n",
    "    \\cos 120  & \\sin 120\\\\\n",
    "    \\cos 150  &\\sin 150\\\\\n",
    "    \\cos 180  &\\sin 180\\\\\n",
    "    \\cos 210  &\\sin 210\\\\\n",
    "    \\cos 240  &\\sin 240\\\\\n",
    "    \\cos 270  &\\sin 270\\\\\n",
    "    \\cos 300  &\\sin 300\\\\\n",
    "    \\cos 330  &\\sin 330\\\\\n",
    "\\end{pmatrix}\n",
    "$"
   ]
  },
  {
   "cell_type": "code",
   "execution_count": 113,
   "id": "8563e233",
   "metadata": {},
   "outputs": [
    {
     "data": {
      "text/plain": [
       "matrix([[ 1.86721276e-07, -2.17340331e-09],\n",
       "        [-2.17340331e-09,  2.19267708e-07]])"
      ]
     },
     "execution_count": 113,
     "metadata": {},
     "output_type": "execute_result"
    }
   ],
   "source": [
    "import numpy as np\n",
    "import scipy as sc\n",
    "from numpy.linalg import pinv\n",
    "from uncertainties import unumpy as unp\n",
    "\n",
    "x = np.array([0,30,60,90,120,150,180,210,240,270,300,330])\n",
    "#y = np.array([-0.032, 0.010,0.057,0.068, 0.076, 0.080, 0.031,0.005,-0.041,-0.090,-0.088,-0.074])\n",
    "y = unp.uarray([-0.032, 0.010,0.057,0.068, 0.076, 0.080, 0.031,0.005,-0.041,-0.090,-0.088,-0.074],[0.0011,0.0011,0.0011,0.0011,0.0011,0.0011,0.0011,0.0011,0.0011,0.0011,0.0011,0.0011])\n",
    "A = np.matrix([[np.cos(0),np.cos(30),np.cos(60),np.cos(90),np.cos(120),np.cos(150),np.cos(180),np.cos(210),np.cos(240),\n",
    "                np.cos(270),np.cos(300),np.cos(330)],[np.sin(0),np.sin(30),np.sin(60),np.sin(90),np.sin(120),np.sin(150),\n",
    "                np.sin(180),np.sin(210),np.sin(240),np.sin(270),np.sin(300),np.sin(330)]])\n",
    "A = A.transpose()\n",
    "AT = A.transpose()\n",
    "#a = np.dot(np.matmul(pinv(np.matmul(AT,A)),AT),y.transpose())\n",
    "a = (pinv(AT @ A) @ AT) @ y\n",
    "\n",
    "vara = 0.0011**2*pinv(AT@A)\n",
    "amean = np.mean(a)\n",
    "vara\n",
    "\n"
   ]
  },
  {
   "cell_type": "code",
   "execution_count": null,
   "id": "26ad4460",
   "metadata": {},
   "outputs": [],
   "source": []
  }
 ],
 "metadata": {
  "kernelspec": {
   "display_name": "Python 3 (ipykernel)",
   "language": "python",
   "name": "python3"
  },
  "language_info": {
   "codemirror_mode": {
    "name": "ipython",
    "version": 3
   },
   "file_extension": ".py",
   "mimetype": "text/x-python",
   "name": "python",
   "nbconvert_exporter": "python",
   "pygments_lexer": "ipython3",
   "version": "3.10.4"
  }
 },
 "nbformat": 4,
 "nbformat_minor": 5
}
