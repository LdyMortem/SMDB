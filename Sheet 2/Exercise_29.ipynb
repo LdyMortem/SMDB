{
 "cells": [
  {
   "cell_type": "markdown",
   "id": "91a2b332",
   "metadata": {},
   "source": [
    "## Exercise 29 \n",
    "$\\textit{Sample Variance}$"
   ]
  },
  {
   "cell_type": "markdown",
   "id": "a552cb15",
   "metadata": {},
   "source": [
    "In the following $X_1$, ..., $X_n$ are the square-integrable, pairwise uncorrelated and real-valued variables with variance $\\sigma^2$ and mean $\\mu$."
   ]
  },
  {
   "cell_type": "markdown",
   "id": "7b346e59",
   "metadata": {},
   "source": [
    "\n",
    "________________________________________________________________________________________________"
   ]
  },
  {
   "cell_type": "markdown",
   "id": "facc7f77",
   "metadata": {},
   "source": [
    "$\\textbf{a)}$ Test whether the formula of the arithmetic mean (1) is an $\\textbf{unbiased estimator}$ of the mean $\\mu$ of the population. If the estimator is not unbiased, look for an appropriate correction."
   ]
  },
  {
   "cell_type": "markdown",
   "id": "b07224b3",
   "metadata": {},
   "source": [
    "For an unbiased estimator, the following statement has to be true: Expected value = true value. If this is not the case, the estimator is biased. In the following we will therefore check if $\\langle \\hat{\\mu} \\rangle = \\mu$."
   ]
  },
  {
   "cell_type": "markdown",
   "id": "751423af",
   "metadata": {},
   "source": [
    "$\\langle\\hat{\\mu}\\rangle = \\langle\\bar{X}\\rangle = \\langle\\frac{1}{n}  \\sum_{i=1}^{n}{X_i}\\rangle = \\frac{1}{n}  \\sum_{i=1}^{n}\\langle{X_i}\\rangle = \\frac{1}{n}  \\sum_{i=1}^{n} \\mu = \\frac{1}{n} \\cdot n \\cdot \\mu = \\mu$"
   ]
  },
  {
   "cell_type": "markdown",
   "id": "bd2ca6d2",
   "metadata": {},
   "source": [
    "This means, that the arithmetic mean is an unbiased estimator of the mean $\\mu$. It'd be very well biased, if it were tested for the variance for example.\n"
   ]
  },
  {
   "cell_type": "markdown",
   "id": "064fe8a3",
   "metadata": {},
   "source": [
    "\n",
    "________________________________________________________________________________________________"
   ]
  },
  {
   "cell_type": "markdown",
   "id": "33865e29",
   "metadata": {},
   "source": [
    "$\\textbf{b)}$ The standard error of the arithmetic mean (1) is defined as the square root of the variance of\n",
    "$\\bar{X}$. Show that (2) is true."
   ]
  },
  {
   "cell_type": "markdown",
   "id": "323dba57",
   "metadata": {},
   "source": [
    "$\\langle (\\bar{X}-\\mu)^2 \\rangle = \\langle \\bar{X}^2 - 2 \\bar{X} \\mu + \\mu^2 \\rangle = \\langle \\bar{X}^2 \\rangle -2 \\mu^2 + \\mu^2 = \\langle \\bar{X}^2 \\rangle - \\mu^2 = \\mathrm{Var}(\\bar{X})$"
   ]
  },
  {
   "cell_type": "markdown",
   "id": "df35cdb0",
   "metadata": {},
   "source": [
    "I wasn't completely sure how to show the first equal-symbol in (2), since the left side is literally the definition of the Variance. I will continue on with showing the right side of the equation (which is most likely more interesting) 😃"
   ]
  },
  {
   "cell_type": "markdown",
   "id": "9d49632e",
   "metadata": {},
   "source": [
    "The following rules for calculating with variances will be used:\n",
    "\n",
    "$\\mathrm{Var}(aX) = a^2 \\mathrm{Var}(X)$\n",
    "\n",
    "$\\mathrm{Var}\\left( \\sum_{i=1}^{n} X_i \\right) = \\sum_{i,j=1}^{n}\\mathrm{Cov}(X_i, X_j) =  \\sum_{i=1}^{n} \\mathrm{Var} (X_i) + \\sum_{i\\neq j}^{} \\mathrm{Cov}(X_i, X_j)$"
   ]
  },
  {
   "cell_type": "markdown",
   "id": "35a82eb5",
   "metadata": {},
   "source": [
    "$\\mathrm{Var}(\\bar{X}) = \\mathrm{Var}\\left(\\frac{1}{n} \\sum_{i=1}^{n} X_i \\right) = \\frac{1}{n^2} \\mathrm{Var}\\left(\\sum_{i=1}^{n} X_i \\right)$\n",
    "\n",
    "Since the random variables are pairwise uncorrelated, the Covariance term is zero.\n",
    "\n",
    "$= \\frac{1}{n^2} \\sum_{i=1}^{n} \\mathrm{Var} (X_i) = \\frac{1}{n^2} \\sum_{i=1}^{n} \\sigma^2 =  \\frac{\\sigma^2}{n}$\n"
   ]
  },
  {
   "cell_type": "markdown",
   "id": "1bb1abdb",
   "metadata": {},
   "source": [
    "\n",
    "________________________________________________________________________________________________"
   ]
  },
  {
   "cell_type": "markdown",
   "id": "d2e5039a",
   "metadata": {},
   "source": [
    "$\\textbf{c)}$ Test whether the formula (3) is an unbiased estimator of the variance $\\sigma^2$ of the population. If the estimator is not unbiased, look for an appropriate correction."
   ]
  },
  {
   "cell_type": "markdown",
   "id": "1b337886",
   "metadata": {},
   "source": [
    "$\\langle\\sigma^2\\rangle = \\langle \\frac{1}{n}\\sum_{i=1}^{n}(X_i-\\mu)^2 \\rangle = \\frac{1}{n} \\langle \\sum_{i=1}^{n} X_i^2 -2\\mu X_i + \\mu^2 \\rangle = \\frac{1}{n} \\sum_{i=1}^{n} \\langle X_i^2 \\rangle - 2 \\mu \\langle X_i \\rangle + \\mu^2 =  \\frac{1}{n} \\sum_{i=1}^{n} \\langle X_i^2 \\rangle - 2 \\mu^2 +\\mu^2 = \\frac{1}{n} \\sum_{i=1}^{n} \\langle X_i^2 \\rangle - \\mu^2 = \\frac{1}{n} \\sum_{i=1}^{n} \\mathrm{Var}(X_i) = \\frac{1}{n} \\sum_{i=1}^{n} \\sigma^2 = \\sigma^2 $"
   ]
  },
  {
   "cell_type": "markdown",
   "id": "c4255200",
   "metadata": {},
   "source": [
    "The given formula is an unbiased estimator for the variance and hence needs no correction.\n"
   ]
  },
  {
   "cell_type": "markdown",
   "id": "3319ab67",
   "metadata": {},
   "source": [
    "\n",
    "________________________________________________________________________________________________"
   ]
  },
  {
   "cell_type": "markdown",
   "id": "e55cd085",
   "metadata": {},
   "source": [
    "$\\textbf{d)}$ Usually the variance $\\sigma^2$ of the population is unknown and the estimator (1) is used instead of $\\mu$. Then (3) becomes (4).\n",
    "Test whether (4) is an unbiased estimator of the variance $\\sigma^2$ of the population. If the estimator is not unbiased, look for an appropriate correction.\n",
    "Hint: Expand the summand with $-\\mu$ $+\\mu$ and use the given relation (2)."
   ]
  },
  {
   "cell_type": "markdown",
   "id": "d8b48eca",
   "metadata": {},
   "source": [
    "$\\langle \\hat{\\sigma}^2\\rangle = \\langle \\frac{1}{n}\\sum_{i=1}^{n}(X_i-\\bar{X})^2 \\rangle =  \\frac{1}{n}\\langle \\sum_{i=1}^{n}(X_i-\\bar{X} - \\mu +\\mu)^2 \\rangle = \\frac{1}{n} \\langle \\sum_{i=1}^{n} \\left((X_i-\\mu)^2 - 2(X_i-\\mu)(\\bar{X} - \\mu) + (\\bar{X}-\\mu)^2\\right) \\rangle = \\frac{1}{n} \\langle \\sum_{i=1}^{n} (X_i-\\mu)^2 - 2\\sum_{i=1}^{n} (X_i-\\mu)(\\bar{X} - \\mu) + \\sum_{i=1}^{n} (\\bar{X}-\\mu)^2 \\rangle $\n",
    "\n",
    "With use of (2):\n",
    "\n",
    "$= \\frac{1}{n} \\langle \\sum_{i=1}^{n} (X_i-\\mu)^2 - 2n (\\bar{X}-\\mu)(\\bar{X} - \\mu) + n (\\bar{X}-\\mu)^2 \\rangle  = \\frac{1}{n} \\langle \\sum_{i=1}^{n} (X_i-\\mu)^2 - 2n (\\bar{X}-\\mu)^2 + n (\\bar{X}-\\mu)^2 \\rangle = \\frac{1}{n} \\langle \\sum_{i=1}^{n} (X_i-\\mu)^2 - n (\\bar{X}-\\mu)^2 \\rangle = \\frac{1}{n}  \\sum_{i=1}^{n} \\langle X_i-\\mu \\rangle^2 - n \\langle \\bar{X}-\\mu \\rangle^2 $ \n",
    "\n",
    "With the definition of the variance which was derived earlier:\n",
    "\n",
    "$= \\frac{1}{n} \\left( \\mathrm{Var}(X_i) - n \\mathrm{Var}(\\bar{X})\\right)$\n",
    "\n",
    "And (3):\n",
    "\n",
    "$= \\sigma^2 - \\frac{\\sigma^2}{n} = \\frac{(n-1)\\sigma^2}{n}$\n",
    "\n",
    "And with that we get the correction term of $\\frac{n}{(n-1)} \\langle \\hat{\\sigma}^2\\rangle = \\sigma^2$"
   ]
  }
 ],
 "metadata": {
  "kernelspec": {
   "display_name": "Python 3 (ipykernel)",
   "language": "python",
   "name": "python3"
  },
  "language_info": {
   "codemirror_mode": {
    "name": "ipython",
    "version": 3
   },
   "file_extension": ".py",
   "mimetype": "text/x-python",
   "name": "python",
   "nbconvert_exporter": "python",
   "pygments_lexer": "ipython3",
   "version": "3.10.4"
  }
 },
 "nbformat": 4,
 "nbformat_minor": 5
}
