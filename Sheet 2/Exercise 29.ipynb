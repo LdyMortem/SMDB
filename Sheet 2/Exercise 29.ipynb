{
 "cells": [
  {
   "cell_type": "markdown",
   "id": "91a2b332",
   "metadata": {},
   "source": [
    "## Exercise 29 \n",
    "$\\textit{Sample Variance}$"
   ]
  },
  {
   "cell_type": "markdown",
   "id": "a552cb15",
   "metadata": {},
   "source": [
    "In the following $x_1$, ..., $x_n$ are the square-integrable, pairwise uncorrelated and real-valued variables $X_1$, ..., $X_n$ with variance $\\sigma^2$ and mean $\\mu$."
   ]
  },
  {
   "cell_type": "markdown",
   "id": "facc7f77",
   "metadata": {},
   "source": [
    "a) Test whether the formula of the arithmetic mean (1) is an $\\textbf{unbiased estimator}$ of the mean 𝜇 of the population. If the estimator is not unbiased, look for an appropriate correction."
   ]
  },
  {
   "cell_type": "markdown",
   "id": "b07224b3",
   "metadata": {},
   "source": [
    "For an unbiased estimator, the following statement has to be true: Expected value = true value. If this is not the case, the estimator is biased. In the following we will therefore check if $\\langle \\hat{\\mu} \\rangle = \\mu$."
   ]
  },
  {
   "cell_type": "markdown",
   "id": "751423af",
   "metadata": {},
   "source": [
    "$\\langle\\hat{\\mu}\\rangle = \\langle\\bar{X}\\rangle = \\langle\\frac{1}{n}  \\sum_{i=1}^{n}{X_i}\\rangle = \\frac{1}{n}  \\sum_{i=1}^{n}\\langle{X_i}\\rangle = \\frac{1}{n}  \\sum_{i=1}^{n} \\mu = \\frac{1}{n} \\cdot n \\cdot \\mu = \\mu$"
   ]
  },
  {
   "cell_type": "code",
   "execution_count": null,
   "id": "27171a8e",
   "metadata": {},
   "outputs": [],
   "source": []
  }
 ],
 "metadata": {
  "kernelspec": {
   "display_name": "Python 3",
   "language": "python",
   "name": "python3"
  },
  "language_info": {
   "codemirror_mode": {
    "name": "ipython",
    "version": 3
   },
   "file_extension": ".py",
   "mimetype": "text/x-python",
   "name": "python",
   "nbconvert_exporter": "python",
   "pygments_lexer": "ipython3",
   "version": "3.8.8"
  }
 },
 "nbformat": 4,
 "nbformat_minor": 5
}
