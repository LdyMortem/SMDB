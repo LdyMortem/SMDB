{
 "cells": [
  {
   "cell_type": "markdown",
   "id": "d7c8f653",
   "metadata": {},
   "source": [
    "# Exercise 8"
   ]
  },
  {
   "cell_type": "markdown",
   "id": "3baaa6e4",
   "metadata": {},
   "source": [
    "### (a)"
   ]
  },
  {
   "cell_type": "markdown",
   "id": "0f035c3b",
   "metadata": {},
   "source": [
    "Calculate the negative log-likelihood function as a function of the single parameter $\\lambda$ and plot\n",
    "it."
   ]
  },
  {
   "cell_type": "markdown",
   "id": "d167d6d7",
   "metadata": {},
   "source": [
    "First we write down the likelihood-function of the Poisson distribution.\n",
    "$L = \\prod_{i=1}^3 f(x_i|\\lambda) \\\\$ \n",
    "$\\rightarrow L_p = \\frac{e^{-\\lambda} \\lambda^{x_i}}{x_i!}$\n",
    "$\\\\ ,x_i = \\{13,8,9\\}$"
   ]
  },
  {
   "cell_type": "markdown",
   "id": "a1d8e463",
   "metadata": {},
   "source": [
    "Now we can calculate the negativ log-likelihood function $l(\\lambda)$\n",
    "$\\\\ l(\\lambda) = - \\sum_{i=1}^3 \\mathrm{ln}\\left(\\frac{e^{-\\lambda} \\lambda^{x_i}}{x_i!}\\right)$\n",
    "$\\\\ \\leftrightarrow l(\\lambda) = 3\\lambda - \\left( \\sum_{i=1}^3 x_i \\right)\\mathrm{ln}(\\lambda) + \\sum_{i=1}^3 \\mathrm{ln}(x_i!)$"
   ]
  },
  {
   "cell_type": "code",
   "execution_count": 17,
   "id": "9f783715",
   "metadata": {},
   "outputs": [
    {
     "name": "stderr",
     "output_type": "stream",
     "text": [
      "/tmp/ipykernel_622/4293037675.py:6: RuntimeWarning: divide by zero encountered in log\n",
      "  return 3*lambda_ - 30*np.log(lambda_)+ 6.227424*10**9\n"
     ]
    },
    {
     "data": {
      "image/png": "[encoded data removed]",
      "text/plain": [
       "<Figure size 432x288 with 1 Axes>"
      ]
     },
     "metadata": {
      "needs_background": "light"
     },
     "output_type": "display_data"
    }
   ],
   "source": [
    "import numpy as np\n",
    "import matplotlib.pyplot as plt\n",
    "\n",
    "\n",
    "def l(lambda_):\n",
    "    return 3*lambda_ - 30*np.log(lambda_)+ 6.227424*10**9\n",
    "\n",
    "xx = np.linspace(0,50,1000)\n",
    "\n",
    "plt.plot(xx,l(xx))\n",
    "plt.grid()\n"
   ]
  },
  {
   "cell_type": "markdown",
   "id": "daca703f",
   "metadata": {},
   "source": [
    "### (b)"
   ]
  },
  {
   "cell_type": "markdown",
   "id": "a82cf706",
   "metadata": {},
   "source": [
    "At what value of $\\lambda$ is the minimum of l$(\\lambda)$?"
   ]
  },
  {
   "cell_type": "markdown",
   "id": "21df5cb2",
   "metadata": {},
   "source": [
    "If we calculate this as a general case with $3\\rightarrow n$, we get:"
   ]
  },
  {
   "cell_type": "markdown",
   "id": "e44cc6e3",
   "metadata": {},
   "source": [
    "$\\frac{\\mathrm{d}l}{\\mathrm{d}\\lambda} = 0 \\leftrightarrow n - \\left( \\sum_{i=1}^n x_i \\right)\\frac{1}{\\lambda} = 0$"
   ]
  },
  {
   "cell_type": "markdown",
   "id": "61506378",
   "metadata": {},
   "source": [
    "$\\leftrightarrow \\lambda = \\frac{\\left( \\sum_{i=1}^n x_i \\right)}{n}$"
   ]
  },
  {
   "cell_type": "markdown",
   "id": "223b20ec",
   "metadata": {},
   "source": [
    "Hence, $\\lambda$ is the arithmetic mean value of $x_i$. In our case with $i = 3$ and the given $x_i$ we get $\\lambda = 10$ as a minimum of the negativ loglikelihood function."
   ]
  },
  {
   "cell_type": "markdown",
   "id": "f70621af",
   "metadata": {},
   "source": [
    "### (c)"
   ]
  },
  {
   "cell_type": "markdown",
   "id": "0f263ed5",
   "metadata": {},
   "source": [
    "For which values of $\\lambda$ does $l(\\lambda)$ take the values:\n",
    "$− ln ℒmax +\n",
    "1\n",
    "2\n",
    ",\n",
    "− ln ℒmax + 2 und\n",
    "− ln ℒmax +\n",
    "9\n",
    "2$\n",
    "and what do these values tell us?\n"
   ]
  },
  {
   "cell_type": "code",
   "execution_count": null,
   "id": "85479f49",
   "metadata": {},
   "outputs": [],
   "source": []
  }
 ],
 "metadata": {
  "kernelspec": {
   "display_name": "Python 3 (ipykernel)",
   "language": "python",
   "name": "python3"
  },
  "language_info": {
   "codemirror_mode": {
    "name": "ipython",
    "version": 3
   },
   "file_extension": ".py",
   "mimetype": "text/x-python",
   "name": "python",
   "nbconvert_exporter": "python",
   "pygments_lexer": "ipython3",
   "version": "3.8.8"
  }
 },
 "nbformat": 4,
 "nbformat_minor": 5
}
