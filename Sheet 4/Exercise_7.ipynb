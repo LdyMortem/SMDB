{
 "cells": [
  {
   "cell_type": "markdown",
   "id": "238cf905",
   "metadata": {},
   "source": [
    "# Exercise 7\n",
    "### $\\textit{Maximum-Likelihood}$"
   ]
  },
  {
   "cell_type": "markdown",
   "id": "53ed3be3",
   "metadata": {},
   "source": [
    "A random variable 𝑥 is to be subject to a uniform distribution\n",
    "\n",
    "\n",
    "$f(x) = \\Bigg\\{\\begin{matrix}\n",
    "1/b & 0 \\leq x \\leq b\\\\\n",
    "0 &  x < 0 \\, \\text{  oder  } \\, x>b\n",
    "\\end{matrix}$"
   ]
  },
  {
   "cell_type": "markdown",
   "id": "0f86614b",
   "metadata": {},
   "source": [
    "(a) Determine an estimator for the parameter $b$ using the maximum likelihood method from a sample\n",
    "$x_1, x_2, ..., x_n$."
   ]
  },
  {
   "cell_type": "markdown",
   "id": "6b588128",
   "metadata": {},
   "source": [
    "Since this is a uniform distribution with f(x) outside of the Parameter 0 and b, the likelihood function is given by:\n",
    "\n",
    "$L(b, x_1, ..., x_n) = \\Pi_{i=1}^n f(x_i, b) = \\Pi_{i=1}^n \\frac{1}{b} = \\frac{1}{b^n}$\n",
    "\n",
    "The log-likelihood function is given by:\n",
    "\n",
    "$\\ln (L(b, x_1, ..., x_n)) = -n \\ln{b} = l(b, x_1,..., x_n)$\n",
    "\n",
    "The log-likelihood function is to be maximised for the parameter b:\n",
    "\n",
    "$\\frac{\\partial l(b, x_1,..., x_n)}{\\partial b} \\stackrel{!}{=} 0$\n",
    "\n",
    "$-\\frac{n}{b} \\stackrel{!}{=} 0$"
   ]
  },
  {
   "cell_type": "markdown",
   "id": "5279ff29",
   "metadata": {},
   "source": [
    "The derivative with respect to $b$ is monotonically decreasing. Thus, the Maximum likelihood estimation for b would be the smallest b possible, which would be:\n",
    "\n",
    "$\\hat{b} = \\max(x_1, x_2, … , x_n)$\n",
    "\n",
    "Therefore $b$ is likely the biggest value that has been measured.\n"
   ]
  },
  {
   "cell_type": "markdown",
   "id": "d10eca5a",
   "metadata": {},
   "source": [
    "(b) Is this estimate biased? If yes, how can the estimator be corrected in this case?"
   ]
  },
  {
   "cell_type": "markdown",
   "id": "0fd9094d",
   "metadata": {},
   "source": [
    "Obviously $\\max(x_1, x_2, … , x_n)<b$ with a probability of one, so the expected value of $\\max(x_1, x_2, … , x_n)$ must be smaller than $b$, so $\\max(x_1, x_2, … , x_n)$ is a biased estimator.\n",
    "\n"
   ]
  },
  {
   "cell_type": "markdown",
   "id": "63b54e2d",
   "metadata": {},
   "source": [
    "The distribution of the max-function is given by: $P(\\hat{b}\\leq x) = P(x_1 \\leq x, x_2 \\leq x, …, x_n \\leq x)= \\left( \\frac{x}{b}\\right)^n$\n",
    "\n",
    "$\\frac{\\partial P}{\\partial x} = p(x) = n \\left( \\frac{x}{b} \\right)^{n-1} \\frac{1}{b}$\n",
    "\n",
    "Now the expectation value of the distribution is given by:\n",
    "\n",
    "$\\int_{0}^{b} x \\cdot n \\left( \\frac{x}{b} \\right)^{n-1} \\frac{1}{b} dx = \\frac{n}{n+1}b$\n",
    "\n",
    "The expected value of $b$ is $b$, therefore $\\hat{b} = \\frac{n+1}{n} \\max(x_1, x_2, … , x_n)$"
   ]
  },
  {
   "cell_type": "code",
   "execution_count": null,
   "id": "4c1bc2cf",
   "metadata": {},
   "outputs": [],
   "source": []
  }
 ],
 "metadata": {
  "kernelspec": {
   "display_name": "Python 3",
   "language": "python",
   "name": "python3"
  },
  "language_info": {
   "codemirror_mode": {
    "name": "ipython",
    "version": 3
   },
   "file_extension": ".py",
   "mimetype": "text/x-python",
   "name": "python",
   "nbconvert_exporter": "python",
   "pygments_lexer": "ipython3",
   "version": "3.8.8"
  }
 },
 "nbformat": 4,
 "nbformat_minor": 5
}
