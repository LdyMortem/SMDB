{
 "cells": [
  {
   "cell_type": "markdown",
   "metadata": {},
   "source": [
    "# Exercise 33 - Maximum-Likelihood\n",
    "A random variable $x$ is to be subject to a uniform distribution\n",
    "$$\n",
    "f(x)= \\begin{cases}1 / b & 0 \\leq x \\leq b \\\\ 0 & x<0 \\quad \\text { oder } \\quad x>b\\end{cases}\n",
    "$$"
   ]
  },
  {
   "cell_type": "markdown",
   "metadata": {},
   "source": [
    "**a) Determine an estimator for the parameter $b$ using the maximum likelihood method from a sample $x_1, x_2, \\ldots, x_n = \\vec{X}$**"
   ]
  },
  {
   "cell_type": "markdown",
   "metadata": {},
   "source": [
    "Likelihood:\n",
    "$$\n",
    "L\\left(\\theta \\mid x_1, \\ldots, x_n\\right)=f\\left(x_1, \\ldots, x_n ; \\theta\\right)=\\prod f\\left(x_i ; \\theta\\right)=\\prod L\\left(\\theta \\mid x_i\\right)\n",
    "$$\n",
    "Log-Likelihood:\n",
    "$$\n",
    "l\\left(\\theta \\mid x_1, \\ldots, x_n\\right)=\\log L\\left(\\theta \\mid x_1, \\ldots, x_n\\right)=f\\left(x_1, \\ldots, x_n ; \\theta\\right)=\\sum \\log f\\left(x_i ; \\theta\\right)=\\sum l\\left(\\theta \\mid x_i\\right)\n",
    "$$"
   ]
  },
  {
   "cell_type": "markdown",
   "metadata": {},
   "source": [
    "Here, $$\\theta = b$$\n",
    "\n",
    "So $$L\\left(\\theta \\mid x_1, \\ldots, x_n\\right)=\\prod ^n \\frac{1}{b}=\\frac{1}{b^n}$$ $$\\qquad \\rightarrow l\\left(b \\mid x_i, \\ldots, x_n\\right)=-n \\ln (b)$$\n",
    "\n",
    "$$\\text { Maximum: } \\quad \\frac{\\partial l}{\\partial b}=\\frac{-n}{b} \\stackrel{!}{=} 0 \\quad \\rightarrow \\text { not reachable. }$$\n",
    "\n",
    "$$\\text { Thus } \\quad \\hat{b}=\\operatorname{argmax} L(b \\mid \\vec{X})=\\max \\vec{X}$$\n",
    "\n"
   ]
  },
  {
   "cell_type": "markdown",
   "metadata": {},
   "source": [
    "**(b) Is this estimate biased? If yes, how can the estimator be corrected in this case?**\n",
    "\n",
    "Unbiased:\n",
    "$$\\langle\\hat{b}\\rangle=b$$\n",
    "Biased:\n",
    "$$B(\\hat{b})=\\langle\\hat{b}\\rangle-b$$\n",
    "\n",
    "$$\\hat{b}=\\max \\vec{X}<b \\text {, so } \\hat{b} \\text { is definitaly biased. }$$\n",
    "\n",
    "$\\text { The PDF } p(x) \\text { of the max-function can be derived from the CDF. }$\n",
    "\n",
    "$\\text { The CDF of a uniform distribution is assumed as given: } F_{\\vec{X}}(x)= \\begin{cases}0, & , x \\leqslant 0 \\\\ \\frac{x}{b} & , x \\in(0, b) \\\\ 1 & , x \\geqslant b\\end{cases}$\n",
    "\n",
    "$\\text { Therefore the CDF of the max-function is } P(\\max \\vec{X} \\leqslant x)=P\\left(x_1 \\leqslant x, \\ldots, x_n \\leqslant x\\right)=\\prod_{i=1}^n P\\left(x_i \\leqslant x\\right)=\\left(F_{\\vec{X}}(x)\\right)^n$\n",
    "\n",
    "$\\text { Then the PDF of the max-function is the derivative: } p(x)=\\frac{d}{d x}\\left(F_x(x)\\right)^n=\\frac{d}{d x}\\left(\\frac{x}{b}\\right)^n=\\frac{n}{b}\\left(\\frac{x}{b}\\right)^{n-1}$\n",
    "\n",
    "$\\Rightarrow\\langle\\hat{b}\\rangle=\\langle\\max \\vec{X}\\rangle_x=\\int_0^b x p(x) d x=\\frac{n}{b^n} \\int_0^b x^n d x=\\frac{n}{b^n}\\left(\\frac{1}{n+1} x^{n+1}\\right)_0^b=\\frac{n}{n+1} b$\n",
    "\n",
    ">The mean value $\\langle\\max \\vec{X}\\rangle_x$ is calculated regarding to $x$, despite the confusing notation of $\\langle\\hat{b}\\rangle$, which suggests an integral over $b$.\n",
    "A closer look at $\\hat{b}$ shows that the mean of $\\hat{b}$ is indeed the mean of $\\max \\vec{X}$, since $b$ is assumed as fixed (for a set of random variables $\\vec{X}$).\n",
    "\n"
   ]
  },
  {
   "cell_type": "markdown",
   "metadata": {},
   "source": [
    "$\\text { Thus the bias of the estimator for } b \\text { is } B(\\hat{b})=\\langle\\hat{b}\\rangle-b=\\frac{n}{n+1} b-b=b\\left(\\frac{n}{n+1}-1\\right)=b\\left(\\frac{n-n-1}{n+1}\\right)=-b\\left(\\frac{1}{n+1}\\right)$.\n",
    "\n",
    "**$\\text { For an unbiased estimator, the correction term is } c=\\frac{n+1}{n} \\rightarrow B(c \\hat{b})=c\\langle\\hat{b}\\rangle-b=b-b=0 \\text {. }$**"
   ]
  }
 ],
 "metadata": {
  "kernelspec": {
   "display_name": "Python 3 (ipykernel)",
   "language": "python",
   "name": "python3"
  },
  "language_info": {
   "codemirror_mode": {
    "name": "ipython",
    "version": 3
   },
   "file_extension": ".py",
   "mimetype": "text/x-python",
   "name": "python",
   "nbconvert_exporter": "python",
   "pygments_lexer": "ipython3",
   "version": "3.10.6"
  }
 },
 "nbformat": 4,
 "nbformat_minor": 2
}
