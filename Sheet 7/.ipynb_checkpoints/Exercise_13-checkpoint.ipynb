{
 "cells": [
  {
   "cell_type": "markdown",
   "id": "99ce7f72",
   "metadata": {},
   "source": [
    "# Exercise 13\n",
    "### $\\textit{Kolmogorov–Smirnov-Test}$"
   ]
  },
  {
   "cell_type": "markdown",
   "id": "5777a112",
   "metadata": {},
   "source": [
    ">In this task, you investigate the similarity of the Poisson and Gaussian distributions using the\n",
    "Kolmogorov–Smirnov test."
   ]
  },
  {
   "cell_type": "markdown",
   "id": "338a9819",
   "metadata": {},
   "source": [
    ">**a) What values do you have to choose for $\\mu$ and $\\sigma$ of a Gaussian distribution so that it is as similar\n",
    "as possible to a Poisson distribution with expected value $\\lambda$?**"
   ]
  },
  {
   "cell_type": "markdown",
   "id": "3238130a",
   "metadata": {},
   "source": [
    "For $\\mu = \\lambda$ and $\\sigma^2 = \\lambda$ the gaussian distribution is as similiar as possible to a Poisson distribution."
   ]
  },
  {
   "cell_type": "markdown",
   "id": "18491f5e",
   "metadata": {},
   "source": [
    ">**b) Implement the two-sample Kolmogorov–Smirnov test for binned data.**"
   ]
  },
  {
   "cell_type": "code",
   "execution_count": 14,
   "id": "d33f87b7",
   "metadata": {},
   "outputs": [],
   "source": [
    "import numpy as np\n",
    "\n",
    "def KolSmi_test(data1, data2, alpha):\n",
    "    n1, n2 = np.sum(data1), np.sum(data2)\n",
    "    d = np.max(np.abs(data1/n1 - data2/n2)) #substracting the empirical distribution functions\n",
    "    return np.sqrt((n1*n2)/(n1+n2))*d <= np.sqrt(np.log(2/alpha)/2) #checks wether the test is accepted or rejected\n",
    "\n"
   ]
  },
  {
   "cell_type": "markdown",
   "id": "02579ae0",
   "metadata": {},
   "source": [
    ">**c) The two-sample Kolmogorov–Smirnov test checks the null hypothesis $𝐻_0$, whether the two samples\n",
    "stem from the same probability distribution. Investigate at which expected value $\\lambda$ the\n",
    "Poisson and Gaussian distributions are so similar that the Kolmogorov–Smirnov test can no\n",
    "longer distinguish between the two. To do this, draw $10 000$ random numbers each from a Poisson\n",
    "distribution and from the corresponding Gaussian distribution for a $\\lambda$ to be tested. Consider\n",
    "the following:**\n",
    "\n",
    ">**• Round the values drawn from the Gaussian distribution to whole numbers.**\n",
    "\n",
    ">**• Use 100 bins each in the interval [$\\mu - 5\\sigma$, $\\mu + 5\\sigma$].**\n",
    "\n",
    ">**• Determine by iteration the value for $\\lambda$ from which you can no longer reject $𝐻_0$ on the basis\n",
    "of the Kolmogorov–Smirnov test at a confidence level of $\\alpha = 5 \\%$.**"
   ]
  },
  {
   "cell_type": "code",
   "execution_count": 22,
   "id": "bcd0e79a",
   "metadata": {},
   "outputs": [
    {
     "name": "stdout",
     "output_type": "stream",
     "text": [
      "Lambda_5.0 =  4.909090909090909\n"
     ]
    }
   ],
   "source": [
    "rng = np.random.default_rng(666)\n",
    "\n",
    "import matplotlib.pyplot as plt\n",
    "\n",
    "def test(lamda, alpha):\n",
    "    \n",
    "    data_p = rng.poisson(lam = lamda, size = 10000) #random numbers from a poisson distribution\n",
    "    data_g = np.around(rng.normal(loc = lamda, scale = np.sqrt(lamda), size = 10000)) #rounded random numbers from \n",
    "    #a normal distribution\n",
    "    \n",
    "    #bins for the poisson data\n",
    "    bins1, limits, patches = plt.hist(data_p, bins = 100, range = (lamda-5*np.sqrt(lamda), lamda+5*np.sqrt(lamda))) \n",
    "    #bins for the gaussian data\n",
    "    bins2, limits, patches = plt.hist(data_g, bins = 100, range = (lamda-5*np.sqrt(lamda), lamda+5*np.sqrt(lamda)))\n",
    "    plt.close()\n",
    "    \n",
    "    # test wether hypothesis is accepted\n",
    "    return KolSmi_test(bins1, bins2, alpha)\n",
    "\n",
    "l = np.linspace(1, 10, 100)\n",
    "\n",
    "for i in range(len(l)):\n",
    "    if test(l[i], 0.05) == True:\n",
    "        print(\"Lambda_5.0 = \", l[i])\n",
    "        break"
   ]
  },
  {
   "cell_type": "markdown",
   "id": "50a496d8",
   "metadata": {},
   "source": [
    "For a $\\lambda \\approx 5$ the null hyptothisis $H_0$, that the samples stem from the same probability distribution can no longer be rejected with a confidence level of $\\alpha = 5\\%$. This values seems to vary largely depending on the random numbers, that have been generated."
   ]
  },
  {
   "cell_type": "markdown",
   "id": "eddf544e",
   "metadata": {},
   "source": [
    ">**d) Determine the value for 𝜆 for the confidence levels 𝛼 = 2.5 % and 𝛼 = 0.1 % analogously.**"
   ]
  },
  {
   "cell_type": "code",
   "execution_count": 23,
   "id": "54a20f37",
   "metadata": {},
   "outputs": [
    {
     "name": "stdout",
     "output_type": "stream",
     "text": [
      "Lambda_2.5 =  4.636363636363637\n",
      "Lambda_0.1 =  3.090909090909091\n"
     ]
    }
   ],
   "source": [
    "for i in range(len(l)):\n",
    "    if test(l[i], 0.025) == True:\n",
    "        print(\"Lambda_2.5 = \", l[i])\n",
    "        break\n",
    "for i in range(len(l)):\n",
    "    if test(l[i], 0.001) == True:\n",
    "        print(\"Lambda_0.1 = \", l[i])\n",
    "        break\n"
   ]
  },
  {
   "cell_type": "markdown",
   "id": "de316c43",
   "metadata": {},
   "source": [
    "For $\\lambda \\approx 4.64$ and a confidence level of $\\alpha = 2,5\\%$ and $\\lambda \\approx 3.09$ and a confidence level of $\\alpha = 0,1\\%$ the null hyptothesis can no longer be rejected. These values vary largly as well."
   ]
  },
  {
   "cell_type": "code",
   "execution_count": null,
   "id": "2790dc20",
   "metadata": {},
   "outputs": [],
   "source": []
  }
 ],
 "metadata": {
  "kernelspec": {
   "display_name": "Python 3",
   "language": "python",
   "name": "python3"
  },
  "language_info": {
   "codemirror_mode": {
    "name": "ipython",
    "version": 3
   },
   "file_extension": ".py",
   "mimetype": "text/x-python",
   "name": "python",
   "nbconvert_exporter": "python",
   "pygments_lexer": "ipython3",
   "version": "3.8.8"
  }
 },
 "nbformat": 4,
 "nbformat_minor": 5
}
