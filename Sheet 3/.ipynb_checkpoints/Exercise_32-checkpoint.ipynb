{
 "cells": [
  {
   "cell_type": "markdown",
   "id": "86ccece1",
   "metadata": {},
   "source": [
    "# Exercise 32 \n",
    "### $\\gamma\\textit{-Astronomy}$"
   ]
  },
  {
   "cell_type": "markdown",
   "id": "178cb280",
   "metadata": {},
   "source": [
    "The following expresssions will be used:\n",
    "\n",
    "• $\\alpha = \\frac{t_{on}}{t_{off}}$ : Quotient of the different measuring times.\n",
    "\n",
    "• $b = \\langle N_{off} \\rangle$ : Unknown expected value for the number of background photons during the measurement\n",
    "time $t_{off}$.\n",
    "\n",
    "• $s$ : Unknown expected value for the number of signal photons during the measurement time $t_{on}$ from the $\\gamma$-ray source. Not to be confused with the whole expectation for the $\\textit{on}$ position."
   ]
  },
  {
   "cell_type": "markdown",
   "id": "14629bd5",
   "metadata": {},
   "source": [
    "### (a) What is the expected value $\\langle N_{on} \\rangle$ expressed by $s$, $b$ and $\\alpha$?"
   ]
  },
  {
   "cell_type": "markdown",
   "id": "d62fa00e",
   "metadata": {},
   "source": [
    "The measured background per time unit in the $\\textit{off}$-measurement should be the same as the background per time unit in the $\\textit{on}$-measurement. The background in the $\\textit{on}$-measurement is $\\langle N_{on} \\rangle-s$. Therefore:\n",
    "\n",
    "$\\frac{b}{t_{off}} = \\frac{\\langle N_{on} \\rangle-s}{t_{on}} \\Leftrightarrow b \\cdot\\frac{ t_{on}}{t_{off}} = \\langle N_{on} \\rangle-s \\Leftrightarrow b \\cdot \\alpha + s = \\langle N_{on} \\rangle$ "
   ]
  },
  {
   "cell_type": "markdown",
   "id": "a652b5d4",
   "metadata": {},
   "source": [
    "### (b) Which probability distributions do $N_{on}$ and $N_{off}$ follow?"
   ]
  },
  {
   "cell_type": "markdown",
   "id": "c6315783",
   "metadata": {},
   "source": [
    "The number of photons detected should follow the poisson distribution, since the counted events are discrete values and arrive independently of one another at the detector. Also, they are measured in a fixed time interval."
   ]
  },
  {
   "cell_type": "markdown",
   "id": "28ccaf14",
   "metadata": {},
   "source": [
    "### (c) What is the likelihood function $ℒ$ $(𝑏, 𝑠)$ for the parameters $𝑏$ and $𝑠$?"
   ]
  },
  {
   "cell_type": "markdown",
   "id": "a03075ff",
   "metadata": {},
   "source": [
    "The N observations are independent. As a consequence, the likelihood function is equal to the product of their probability mass functions: \n",
    "$ \\prod_{n=0}^{N}{ \\frac{ b^{ n } s^{ n } \\text{ exp }\\left( - (b+s) \\right) }{ (n!)^2 }}$"
   ]
  },
  {
   "cell_type": "markdown",
   "id": "e4830fed",
   "metadata": {},
   "source": [
    "### (d) Which values for $\\hat{b}$ and $\\hat{s}$ maximise ℒ ?"
   ]
  },
  {
   "cell_type": "markdown",
   "id": "d9deb9df",
   "metadata": {},
   "source": [
    "The likelihood function can be maximised, by minimizing the negative log-likelihood function. The log-likelihood function is given by:\n",
    "\n",
    "$l(s,b) = \\ln(L(s,b)) = \\ln \\left( \\frac{b^n \\cdot s^n \\cdot \\text{ exp }\\left( - (b+s) \\right)}{(n!)^2 } \\right) $\n",
    "\n",
    "$= n \\ln b + n \\ln s - b - s - 2\\ln(n!) $\n",
    "\n",
    "The negative log-likelihood function is therefore: \n",
    "\n",
    "$F(s,b) = - n \\ln b - n \\ln s + b + s + 2\\ln(n!)$\n",
    "\n",
    "To minimize this function we have to derive it and set the derivative equal to zero:\n",
    "\n",
    "$\\frac{\\partial F(s,b)}{\\partial s} \\stackrel{!}{=} 0$\n",
    "\n",
    "$\\leftrightarrow - \\frac{n}{s} + 1 = 0$\n",
    "\n",
    "$\\leftrightarrow \\hat{s} = n$\n",
    "\n",
    "$\\frac{\\partial F(s,b)}{\\partial b} \\stackrel{!}{=} 0$\n",
    "\n",
    "$\\leftrightarrow - \\frac{n}{b} + 1 = 0$\n",
    "\n",
    "$\\leftrightarrow \\hat{b} = n$"
   ]
  },
  {
   "cell_type": "markdown",
   "id": "311eb872",
   "metadata": {},
   "source": [
    "### (e) Calculate the covariance matrix of $\\hat{b}$ and $\\hat{s}$. How is the covariance matrix related to the likelihood? Is this type of error calculation accurate?"
   ]
  },
  {
   "cell_type": "code",
   "execution_count": null,
   "id": "2a48b9c3",
   "metadata": {},
   "outputs": [],
   "source": []
  }
 ],
 "metadata": {
  "kernelspec": {
   "display_name": "Python 3 (ipykernel)",
   "language": "python",
   "name": "python3"
  },
  "language_info": {
   "codemirror_mode": {
    "name": "ipython",
    "version": 3
   },
   "file_extension": ".py",
   "mimetype": "text/x-python",
   "name": "python",
   "nbconvert_exporter": "python",
   "pygments_lexer": "ipython3",
   "version": "3.10.4"
  }
 },
 "nbformat": 4,
 "nbformat_minor": 5
}
