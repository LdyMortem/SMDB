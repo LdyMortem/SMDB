{
 "cells": [
  {
   "cell_type": "markdown",
   "id": "86ccece1",
   "metadata": {},
   "source": [
    "# Exercise 32 \n",
    "### $\\gamma\\textit{-Astronomy}$"
   ]
  },
  {
   "cell_type": "markdown",
   "id": "178cb280",
   "metadata": {},
   "source": [
    "The following expresssions will be used:\n",
    "\n",
    "• $\\alpha = \\frac{t_{on}}{t_{off}}$ : Quotient of the different measuring times.\n",
    "\n",
    "• $b = \\langle N_{off} \\rangle$ : Unknown expected value for the number of background photons during the measurement\n",
    "time $t_{off}$.\n",
    "\n",
    "• $s$ : Unknown expected value for the number of signal photons during the measurement time $t_{on}$ from the $\\gamma$-ray source. Not to be confused with the whole expectation for the $\\textit{on}$ position."
   ]
  },
  {
   "cell_type": "markdown",
   "id": "14629bd5",
   "metadata": {},
   "source": [
    "### (a) What is the expected value $\\langle N_{on} \\rangle$ expressed by $s$, $b$ and $\\alpha$?"
   ]
  },
  {
   "cell_type": "markdown",
   "id": "d62fa00e",
   "metadata": {},
   "source": [
    "The measured background per time unit in the $\\textit{off}$-measurement should be the same as the background per time unit in the $\\textit{on}$-measurement. The background in the $\\textit{on}$-measurement is $\\langle N_{on} \\rangle-s$. Therefore:\n",
    "\n",
    "$\\frac{b}{t_{off}} = \\frac{\\langle N_{on} \\rangle-s}{t_{on}} \\Leftrightarrow b \\cdot\\frac{ t_{on}}{t_{off}} = \\langle N_{on} \\rangle-s \\Leftrightarrow b \\cdot \\alpha + s = \\langle N_{on} \\rangle$ "
   ]
  },
  {
   "cell_type": "markdown",
   "id": "a652b5d4",
   "metadata": {},
   "source": [
    "### (b) Which probability distributions do $N_{on}$ and $N_{off}$ follow?"
   ]
  },
  {
   "cell_type": "markdown",
   "id": "c6315783",
   "metadata": {},
   "source": [
    "The number of photons detected should follow the poisson distribution, since the counted events are discrete values and arrive independently of one another at the detector. Also, they are measured in a fixed time interval.\n",
    "\n",
    "$P(N_{off}) = \\frac{ b^{ n_1 } \\text{ exp }\\left( -b \\right) }{ (n_1)! }$\n",
    "\n",
    "$P(N_{on}) = \\frac{ (b\\cdot \\alpha + s)^{ n_2 } \\text{ exp }\\left( -(b\\cdot \\alpha + s) \\right) }{ (n_2)! }$\n",
    "\n",
    "$ n_1 \\hat{=} $ Number of background photons counted in the $\\textit{off}$-measurement,\n",
    "\n",
    "$n_2 \\hat{=} $ Number of signal photons (without background!) counted in the $\\textit{on}$-measurement."
   ]
  },
  {
   "cell_type": "markdown",
   "id": "28ccaf14",
   "metadata": {},
   "source": [
    "### (c) What is the likelihood function $ℒ$ $(𝑏, 𝑠)$ for the parameters $𝑏$ and $𝑠$?"
   ]
  },
  {
   "cell_type": "markdown",
   "id": "a03075ff",
   "metadata": {},
   "source": [
    "The N observations are independent. As a consequence, the likelihood function is equal to the product of their probability mass functions: \n",
    "\n",
    "$%ℒ \\, (𝑏, 𝑠) = \\frac{ b^{ n_1 } (b\\cdot \\alpha + s)^{ n_2 } \\text{ exp }\\left( - (b + b\\cdot \\alpha + s) \\right) }{ (n_1!)(n_2!) } = \\frac{ b^{ n_1 } (b\\cdot \\alpha + s)^{ n_2 } \\text{ exp }\\left( - (b( 1 +  \\alpha ) + s) \\right) }{ (n_1!)(n_2!) } $\n",
    "$%ℒ \\, (𝑏, 𝑠) = \\frac{(b\\cdot \\alpha + s)^{ n_2 } \\text{ exp }\\left( - (b\\cdot \\alpha + s) \\right) }{(n_2!) }$\n",
    "$ℒ \\, (𝑏, 𝑠) = \\frac{b^{ n_1 } s^{ n_2 } \\text{ exp }\\left( - (b + s) \\right) }{(n_1!)(n_2!) }$\n",
    "\n"
   ]
  },
  {
   "cell_type": "markdown",
   "id": "e4830fed",
   "metadata": {},
   "source": [
    "### (d) Which values for $\\hat{b}$ and $\\hat{s}$ maximise ℒ ?"
   ]
  },
  {
   "cell_type": "markdown",
   "id": "d9deb9df",
   "metadata": {},
   "source": [
    "The likelihood function can be maximised, by minimizing the negative log-likelihood function. The log-likelihood function is given by:\n",
    "\n",
    "$ l(s,b) = \\ln(L(s,b)) = n_1 \\ln{b} + n_2 \\ln{s} - b - s - \\ln{n_1!} - \\ln{n_2!}$\n",
    "\n",
    "The negative log-likelihood function is therefore: \n",
    "\n",
    "$F(s,b) = - n_1 \\ln{b} - n_2 \\ln{s} + b + s + \\ln{n_1!} + \\ln{n_2!}$\n",
    "\n",
    "To minimize this function we have to derive it and set the derivative equal to zero:\n",
    "\n",
    "$\\frac{\\partial F(s,b)}{\\partial b} \\stackrel{!}{=} 0$\n",
    "\n",
    "$\\Leftrightarrow - \\frac{n_1}{b} + 1 = 0$\n",
    "\n",
    "$\\Leftrightarrow \\hat{b}_{max}  = n_1$\n",
    "\n",
    "$\\frac{\\partial F(s,b)}{\\partial s} \\stackrel{!}{=} 0$\n",
    "\n",
    "$\\Leftrightarrow - \\frac{n_1}{s} + 1 = 0$\n",
    "\n",
    "$\\Leftrightarrow \\hat{s}_{max}  = n_2$\n",
    "\n",
    "When the expected value is equal to the number of counts measured, the likelihood is maximized.\n",
    "\n"
   ]
  },
  {
   "cell_type": "markdown",
   "id": "311eb872",
   "metadata": {},
   "source": [
    "### (e) Calculate the covariance matrix of $\\hat{b}$ and $\\hat{s}$. How is the covariance matrix related to the likelihood? Is this type of error calculation accurate?"
   ]
  },
  {
   "cell_type": "markdown",
   "id": "ad34bfd1",
   "metadata": {},
   "source": [
    "From the script, we know that the covariance matrix is given by:\n",
    "\n",
    "$\\mathrm{cov}(\\hat{s},\\hat{b}) = \\frac{1}{\\mathrm{det} \\, G} \n",
    "\\begin{pmatrix}\n",
    "G_{11} & -G_{12} \\\\\n",
    "-G_{21} & G_{22}\n",
    "\\end{pmatrix}$\n",
    "\n",
    "$G_{11}(s,b) = \\frac{\\partial^2 F}{\\partial b^2} =  \\frac{n_1}{b^2}$\n",
    "\n",
    "$G_{22}(s,b) = \\frac{\\partial^2 F}{\\partial s^2} =  \\frac{n_2}{s^2}$\n",
    "\n",
    "$G_{12}(s,b) = G_{21}(s,b) = \\frac{\\partial^2 F}{\\partial b , \\partial s} = 0$\n",
    "\n",
    "$\\mathrm{det} \\, G = \\frac{n_1}{b^2} \\cdot \\frac{n_2}{s^2} - 0 = \\frac{n_1 \\, n_2}{s^2 \\, b^2}$\n",
    "\n",
    "$\\Rightarrow \\mathrm{cov}(\\hat{s},\\hat{b}) = \\frac{s^2 \\, b^2}{n_1 \\, n_2} \n",
    "\\begin{pmatrix}\n",
    "\\frac{n_1}{b^2} & 0 \\\\\n",
    "0 & \\frac{n_2}{s^2}\n",
    "\\end{pmatrix}$"
   ]
  },
  {
   "cell_type": "markdown",
   "id": "cf7189f4",
   "metadata": {},
   "source": [
    "The covariance matrix gives the errors to the values astimated with the likelihood function. The errors are not exact though, because the formula for them is derived from the taylor expansion until the quadratic term. So the terms of higher orders have been dodged."
   ]
  }
 ],
 "metadata": {
  "kernelspec": {
   "display_name": "Python 3 (ipykernel)",
   "language": "python",
   "name": "python3"
  },
  "language_info": {
   "codemirror_mode": {
    "name": "ipython",
    "version": 3
   },
   "file_extension": ".py",
   "mimetype": "text/x-python",
   "name": "python",
   "nbconvert_exporter": "python",
   "pygments_lexer": "ipython3",
   "version": "3.10.4"
  }
 },
 "nbformat": 4,
 "nbformat_minor": 5
}
